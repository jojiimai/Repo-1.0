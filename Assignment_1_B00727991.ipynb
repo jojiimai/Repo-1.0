{
 "cells": [
  {
   "cell_type": "markdown",
   "metadata": {},
   "source": [
    "# Assignment 1: Excel from Hell"
   ]
  },
  {
   "cell_type": "markdown",
   "metadata": {},
   "source": [
    "Because data storage and proper naming are **absolutely critical** to doing science and getting to the fun part (analysis!), this assignment takes you into the particuar circle of hell that is reserved for people dammed to using data collected by other biologists (including, in extreme cases, their past selves...).\n",
    "\n",
    "If you go into a scientific career **this assignment will save you** a lot of pain in the long run. For the next two weeks however...\n",
    "\n",
    "![Excel](purgatorio.jpg)\n",
    "\n"
   ]
  },
  {
   "cell_type": "markdown",
   "metadata": {},
   "source": [
    "# Lasciate ogne speranza, voi ch'intrate!\n",
    "\n",
    "---\n"
   ]
  },
  {
   "cell_type": "markdown",
   "metadata": {},
   "source": [
    "In this assignment, you will have to work your way through a set of data stored in your own personal Hell. Each student will have a slightly different dataset, with slightly different numbers and problems that make each unique. Therefore you will have to work through your own dataset individually - each soul suffers alone - and be solely responsible for the results.\n",
    "\n",
    "**DOWNLOAD YOUR DATASET HERE**: https://www.dropbox.com/sh/twygpemy8cmauqq/AADL6pModRzfYYND4hqBBJLJa?dl=0\n",
    "\n",
    "In your personal circle, you'll find two directories, corresponding to two survey locations where various aspects of coral reefs in the area have been surveyed. For each location, there are two study sites, within which replicate transects are surveyed.\n",
    "\n",
    "**The first part of your assigment is to tidy these data into a single .csv file**:\n",
    "\n",
    "1. Each variable forms a column.\n",
    "2. Each observation forms a row.\n",
    "\n",
    "The observational units here are the location, the site, and the transect. For this assignment (and ignoring rule #3) all data should be reconciled to the transect level (following rule #2). Each spreadsheet will contain important variables that should become the columns in your final .csv file (following rule #1). These are specfied under **'Columns to gather'** in the spreadsheet information below.\n",
    "\n",
    "**The second part of your assigment is to import your new dataset and plot (in this Jupyter notebook):**\n",
    "\n",
    "1. A stacked barchart of substrate proportions using `barplot()`\n",
    "2. A scatterplot of rugosity vs fish abundance\n",
    "3. A scatterplot of biomass vs fish abundance\n",
    "4. A scatterplot of Scaridae biomass vs Avg_herbivory\n",
    "\n",
    "**Follow instructions carefully as this assignment is worth 12.5% of your final grade.**"
   ]
  },
  {
   "cell_type": "markdown",
   "metadata": {},
   "source": [
    "## Spreadsheet information\n",
    "\n",
    "### Fish_xxx.xlsx\n",
    "\n",
    "This workbook contains a single sheet with reef fish family abundance data collected from two transects within each site and some other summary information. \n",
    "\n",
    "**Columns to gather**\n",
    "\n",
    "    (1) Location\n",
    "    (2) Site\n",
    "    (3) Transect\n",
    "    (4) Date\n",
    "    (5) Family group\n",
    "    (6) Size class\n",
    "    (7) Biomass\n",
    "    (8) Abundance\n",
    "\n",
    "*All columns at transect level\n",
    "\n",
    "### Herbivory_xxx.xlsx\n",
    "\n",
    "This workbook conatins a single sheet detailing how much individual algal fronds on replicate lines within each site are nibbled by herbivores, and some other summary information. Replicate fronts have a length and their net change in length, which provides an index of herbivory intensity.\n",
    "\n",
    "**Columns to gather**\n",
    "\n",
    "    (9) Avg_herbivory - the site-level average proportion length change per site (averaged over all replicates and lines in a site)\n",
    "\n",
    "\n",
    "### Predation_xxx.xlsx\n",
    "\n",
    "This workbook conatins a single sheet detailing if individual corals on replicate lines within each site are predated upon, and some other descriptive information.\n",
    "\n",
    "**Columns to gather**\n",
    "\n",
    "    (10) Avg_predation - the site-level average proportion of corals predated upon per site (averaged over all replicates and lines in a site)\n",
    "\n",
    "\n",
    "### Substrate_xxx.xlsx\n",
    "\n",
    "This workbook conatins a single sheet representing substrate information collected as counts (per grid cells) of various substrata. \n",
    "\n",
    "**Columns to gather**\n",
    "\n",
    "    (11) Hard_coral - percent of total \n",
    "    (12) Turf - percent of total\n",
    "    (13) Calcareous - percent of total\n",
    "    (14) Fleshy_algae - percent of total\n",
    "    (15) Coralline - percent of total\n",
    "    (16) Seagrass - percent of total\n",
    "    (17) Softcoral - percent of total\n",
    "    (18) Sand - percent of total\n",
    "    (19) Sponge - percent of total\n",
    "    (20) Rugosity\n",
    "\n",
    "*All columns at transect level\n",
    "\n",
    "### Urchin_xxx.xlsx\n",
    "\n",
    "This workbook contains a single worksheet that has counts of various urchin species in quadrats scattered within each site.\n",
    "\n",
    "**Columns to gather**\n",
    "\n",
    "    (21) Urchins - average number of urchins among quadrats per site"
   ]
  },
  {
   "cell_type": "markdown",
   "metadata": {},
   "source": [
    "**Remember - there are two locations!**"
   ]
  },
  {
   "cell_type": "markdown",
   "metadata": {},
   "source": [
    "# Insert cells and add your plots into the space below"
   ]
  },
  {
   "cell_type": "code",
   "execution_count": 76,
   "metadata": {},
   "outputs": [],
   "source": [
    "library(dplyr)"
   ]
  },
  {
   "cell_type": "code",
   "execution_count": 20,
   "metadata": {},
   "outputs": [
    {
     "data": {
      "text/html": [
       "<table>\n",
       "<caption>A data.frame: 624 × 24</caption>\n",
       "<thead>\n",
       "\t<tr><th scope=col>Location</th><th scope=col>Site</th><th scope=col>Transect</th><th scope=col>Date</th><th scope=col>Family_group</th><th scope=col>Size_class</th><th scope=col>Biomass</th><th scope=col>Abundance</th><th scope=col>Avg_herbivory</th><th scope=col>Avg_predation</th><th scope=col>⋯</th><th scope=col>Coralline</th><th scope=col>Seagrass</th><th scope=col>Soft_coral</th><th scope=col>Sand</th><th scope=col>Sponge</th><th scope=col>Rugosity</th><th scope=col>Urchins</th><th scope=col>X</th><th scope=col>X.1</th><th scope=col>X.2</th></tr>\n",
       "\t<tr><th scope=col>&lt;fct&gt;</th><th scope=col>&lt;int&gt;</th><th scope=col>&lt;int&gt;</th><th scope=col>&lt;fct&gt;</th><th scope=col>&lt;fct&gt;</th><th scope=col>&lt;fct&gt;</th><th scope=col>&lt;dbl&gt;</th><th scope=col>&lt;int&gt;</th><th scope=col>&lt;dbl&gt;</th><th scope=col>&lt;dbl&gt;</th><th scope=col>⋯</th><th scope=col>&lt;dbl&gt;</th><th scope=col>&lt;dbl&gt;</th><th scope=col>&lt;dbl&gt;</th><th scope=col>&lt;dbl&gt;</th><th scope=col>&lt;dbl&gt;</th><th scope=col>&lt;dbl&gt;</th><th scope=col>&lt;dbl&gt;</th><th scope=col>&lt;lgl&gt;</th><th scope=col>&lt;lgl&gt;</th><th scope=col>&lt;lgl&gt;</th></tr>\n",
       "</thead>\n",
       "<tbody>\n",
       "\t<tr><td>Nias</td><td>1</td><td>1</td><td>18/2/2005</td><td>Acanthuridae  </td><td>3-10cm </td><td>0.000</td><td>0</td><td>0.2413793</td><td>1</td><td>⋯</td><td>0</td><td>0.2344771</td><td>0</td><td>0.1413399</td><td>0.01143791</td><td>1.135074</td><td>112.6667</td><td>NA</td><td>NA</td><td>NA</td></tr>\n",
       "\t<tr><td>Nias</td><td>1</td><td>1</td><td>18/2/2005</td><td>Acanthuridae  </td><td>10-20cm</td><td>0.000</td><td>0</td><td>0.2413793</td><td>1</td><td>⋯</td><td>0</td><td>0.2344771</td><td>0</td><td>0.1413399</td><td>0.01143791</td><td>1.135074</td><td>112.6667</td><td>NA</td><td>NA</td><td>NA</td></tr>\n",
       "\t<tr><td>Nias</td><td>1</td><td>1</td><td>18/2/2005</td><td>Acanthuridae  </td><td>20-30cm</td><td>0.000</td><td>0</td><td>0.2413793</td><td>1</td><td>⋯</td><td>0</td><td>0.2344771</td><td>0</td><td>0.1413399</td><td>0.01143791</td><td>1.135074</td><td>112.6667</td><td>NA</td><td>NA</td><td>NA</td></tr>\n",
       "\t<tr><td>Nias</td><td>1</td><td>1</td><td>18/2/2005</td><td>Acanthuridae  </td><td>30-40cm</td><td>0.000</td><td>0</td><td>0.2413793</td><td>1</td><td>⋯</td><td>0</td><td>0.2344771</td><td>0</td><td>0.1413399</td><td>0.01143791</td><td>1.135074</td><td>112.6667</td><td>NA</td><td>NA</td><td>NA</td></tr>\n",
       "\t<tr><td>Nias</td><td>1</td><td>1</td><td>18/2/2005</td><td><span style=white-space:pre-wrap>Acanthuridae  </span></td><td><span style=white-space:pre-wrap>&gt;40cm  </span></td><td>0.000</td><td>0</td><td>0.2413793</td><td>1</td><td>⋯</td><td>0</td><td>0.2344771</td><td>0</td><td>0.1413399</td><td>0.01143791</td><td>1.135074</td><td>112.6667</td><td>NA</td><td>NA</td><td>NA</td></tr>\n",
       "\t<tr><td>Nias</td><td>1</td><td>1</td><td>18/2/2005</td><td>Acanthuridae  </td><td>Total  </td><td>0.000</td><td>0</td><td>0.2413793</td><td>1</td><td>⋯</td><td>0</td><td>0.2344771</td><td>0</td><td>0.1413399</td><td>0.01143791</td><td>1.135074</td><td>112.6667</td><td>NA</td><td>NA</td><td>NA</td></tr>\n",
       "\t<tr><td>Nias</td><td>1</td><td>1</td><td>18/2/2005</td><td>Balistidae    </td><td>3-10cm </td><td>0.000</td><td>0</td><td>0.2413793</td><td>1</td><td>⋯</td><td>0</td><td>0.2344771</td><td>0</td><td>0.1413399</td><td>0.01143791</td><td>1.135074</td><td>112.6667</td><td>NA</td><td>NA</td><td>NA</td></tr>\n",
       "\t<tr><td>Nias</td><td>1</td><td>1</td><td>18/2/2005</td><td>Balistidae    </td><td>10-20cm</td><td>0.000</td><td>0</td><td>0.2413793</td><td>1</td><td>⋯</td><td>0</td><td>0.2344771</td><td>0</td><td>0.1413399</td><td>0.01143791</td><td>1.135074</td><td>112.6667</td><td>NA</td><td>NA</td><td>NA</td></tr>\n",
       "\t<tr><td>Nias</td><td>1</td><td>1</td><td>18/2/2005</td><td>Balistidae    </td><td>20-30cm</td><td>0.000</td><td>0</td><td>0.2413793</td><td>1</td><td>⋯</td><td>0</td><td>0.2344771</td><td>0</td><td>0.1413399</td><td>0.01143791</td><td>1.135074</td><td>112.6667</td><td>NA</td><td>NA</td><td>NA</td></tr>\n",
       "\t<tr><td>Nias</td><td>1</td><td>1</td><td>18/2/2005</td><td>Balistidae    </td><td>30-40cm</td><td>0.000</td><td>0</td><td>0.2413793</td><td>1</td><td>⋯</td><td>0</td><td>0.2344771</td><td>0</td><td>0.1413399</td><td>0.01143791</td><td>1.135074</td><td>112.6667</td><td>NA</td><td>NA</td><td>NA</td></tr>\n",
       "\t<tr><td>Nias</td><td>1</td><td>1</td><td>18/2/2005</td><td><span style=white-space:pre-wrap>Balistidae    </span></td><td><span style=white-space:pre-wrap>&gt;40cm  </span></td><td>0.000</td><td>0</td><td>0.2413793</td><td>1</td><td>⋯</td><td>0</td><td>0.2344771</td><td>0</td><td>0.1413399</td><td>0.01143791</td><td>1.135074</td><td>112.6667</td><td>NA</td><td>NA</td><td>NA</td></tr>\n",
       "\t<tr><td>Nias</td><td>1</td><td>1</td><td>18/2/2005</td><td>Balistidae    </td><td>Total  </td><td>0.000</td><td>0</td><td>0.2413793</td><td>1</td><td>⋯</td><td>0</td><td>0.2344771</td><td>0</td><td>0.1413399</td><td>0.01143791</td><td>1.135074</td><td>112.6667</td><td>NA</td><td>NA</td><td>NA</td></tr>\n",
       "\t<tr><td>Nias</td><td>1</td><td>1</td><td>18/2/2005</td><td>Chaetodontidae</td><td>3-10cm </td><td>0.448</td><td>2</td><td>0.2413793</td><td>1</td><td>⋯</td><td>0</td><td>0.2344771</td><td>0</td><td>0.1413399</td><td>0.01143791</td><td>1.135074</td><td>112.6667</td><td>NA</td><td>NA</td><td>NA</td></tr>\n",
       "\t<tr><td>Nias</td><td>1</td><td>1</td><td>18/2/2005</td><td>Chaetodontidae</td><td>10-20cm</td><td>1.780</td><td>1</td><td>0.2413793</td><td>1</td><td>⋯</td><td>0</td><td>0.2344771</td><td>0</td><td>0.1413399</td><td>0.01143791</td><td>1.135074</td><td>112.6667</td><td>NA</td><td>NA</td><td>NA</td></tr>\n",
       "\t<tr><td>Nias</td><td>1</td><td>1</td><td>18/2/2005</td><td>Chaetodontidae</td><td>20-30cm</td><td>0.000</td><td>0</td><td>0.2413793</td><td>1</td><td>⋯</td><td>0</td><td>0.2344771</td><td>0</td><td>0.1413399</td><td>0.01143791</td><td>1.135074</td><td>112.6667</td><td>NA</td><td>NA</td><td>NA</td></tr>\n",
       "\t<tr><td>Nias</td><td>1</td><td>1</td><td>18/2/2005</td><td>Chaetodontidae</td><td>30-40cm</td><td>0.000</td><td>0</td><td>0.2413793</td><td>1</td><td>⋯</td><td>0</td><td>0.2344771</td><td>0</td><td>0.1413399</td><td>0.01143791</td><td>1.135074</td><td>112.6667</td><td>NA</td><td>NA</td><td>NA</td></tr>\n",
       "\t<tr><td>Nias</td><td>1</td><td>1</td><td>18/2/2005</td><td>Chaetodontidae</td><td><span style=white-space:pre-wrap>&gt;40cm  </span></td><td>0.000</td><td>0</td><td>0.2413793</td><td>1</td><td>⋯</td><td>0</td><td>0.2344771</td><td>0</td><td>0.1413399</td><td>0.01143791</td><td>1.135074</td><td>112.6667</td><td>NA</td><td>NA</td><td>NA</td></tr>\n",
       "\t<tr><td>Nias</td><td>1</td><td>1</td><td>18/2/2005</td><td>Chaetodontidae</td><td>Total  </td><td>2.228</td><td>3</td><td>0.2413793</td><td>1</td><td>⋯</td><td>0</td><td>0.2344771</td><td>0</td><td>0.1413399</td><td>0.01143791</td><td>1.135074</td><td>112.6667</td><td>NA</td><td>NA</td><td>NA</td></tr>\n",
       "\t<tr><td>Nias</td><td>1</td><td>1</td><td>18/2/2005</td><td>Diodontidae   </td><td>3-10cm </td><td>0.000</td><td>0</td><td>0.2413793</td><td>1</td><td>⋯</td><td>0</td><td>0.2344771</td><td>0</td><td>0.1413399</td><td>0.01143791</td><td>1.135074</td><td>112.6667</td><td>NA</td><td>NA</td><td>NA</td></tr>\n",
       "\t<tr><td>Nias</td><td>1</td><td>1</td><td>18/2/2005</td><td>Diodontidae   </td><td>10-20cm</td><td>0.000</td><td>0</td><td>0.2413793</td><td>1</td><td>⋯</td><td>0</td><td>0.2344771</td><td>0</td><td>0.1413399</td><td>0.01143791</td><td>1.135074</td><td>112.6667</td><td>NA</td><td>NA</td><td>NA</td></tr>\n",
       "\t<tr><td>Nias</td><td>1</td><td>1</td><td>18/2/2005</td><td>Diodontidae   </td><td>20-30cm</td><td>0.000</td><td>0</td><td>0.2413793</td><td>1</td><td>⋯</td><td>0</td><td>0.2344771</td><td>0</td><td>0.1413399</td><td>0.01143791</td><td>1.135074</td><td>112.6667</td><td>NA</td><td>NA</td><td>NA</td></tr>\n",
       "\t<tr><td>Nias</td><td>1</td><td>1</td><td>18/2/2005</td><td>Diodontidae   </td><td>30-40cm</td><td>0.000</td><td>0</td><td>0.2413793</td><td>1</td><td>⋯</td><td>0</td><td>0.2344771</td><td>0</td><td>0.1413399</td><td>0.01143791</td><td>1.135074</td><td>112.6667</td><td>NA</td><td>NA</td><td>NA</td></tr>\n",
       "\t<tr><td>Nias</td><td>1</td><td>1</td><td>18/2/2005</td><td><span style=white-space:pre-wrap>Diodontidae   </span></td><td><span style=white-space:pre-wrap>&gt;40cm  </span></td><td>0.000</td><td>0</td><td>0.2413793</td><td>1</td><td>⋯</td><td>0</td><td>0.2344771</td><td>0</td><td>0.1413399</td><td>0.01143791</td><td>1.135074</td><td>112.6667</td><td>NA</td><td>NA</td><td>NA</td></tr>\n",
       "\t<tr><td>Nias</td><td>1</td><td>1</td><td>18/2/2005</td><td>Diodontidae   </td><td>Total  </td><td>0.000</td><td>0</td><td>0.2413793</td><td>1</td><td>⋯</td><td>0</td><td>0.2344771</td><td>0</td><td>0.1413399</td><td>0.01143791</td><td>1.135074</td><td>112.6667</td><td>NA</td><td>NA</td><td>NA</td></tr>\n",
       "\t<tr><td>Nias</td><td>1</td><td>1</td><td>18/2/2005</td><td>Labridae      </td><td>3-10cm </td><td>1.164</td><td>6</td><td>0.2413793</td><td>1</td><td>⋯</td><td>0</td><td>0.2344771</td><td>0</td><td>0.1413399</td><td>0.01143791</td><td>1.135074</td><td>112.6667</td><td>NA</td><td>NA</td><td>NA</td></tr>\n",
       "\t<tr><td>Nias</td><td>1</td><td>1</td><td>18/2/2005</td><td>Labridae      </td><td>10-20cm</td><td>2.304</td><td>2</td><td>0.2413793</td><td>1</td><td>⋯</td><td>0</td><td>0.2344771</td><td>0</td><td>0.1413399</td><td>0.01143791</td><td>1.135074</td><td>112.6667</td><td>NA</td><td>NA</td><td>NA</td></tr>\n",
       "\t<tr><td>Nias</td><td>1</td><td>1</td><td>18/2/2005</td><td>Labridae      </td><td>20-30cm</td><td>0.000</td><td>0</td><td>0.2413793</td><td>1</td><td>⋯</td><td>0</td><td>0.2344771</td><td>0</td><td>0.1413399</td><td>0.01143791</td><td>1.135074</td><td>112.6667</td><td>NA</td><td>NA</td><td>NA</td></tr>\n",
       "\t<tr><td>Nias</td><td>1</td><td>1</td><td>18/2/2005</td><td>Labridae      </td><td>30-40cm</td><td>0.000</td><td>0</td><td>0.2413793</td><td>1</td><td>⋯</td><td>0</td><td>0.2344771</td><td>0</td><td>0.1413399</td><td>0.01143791</td><td>1.135074</td><td>112.6667</td><td>NA</td><td>NA</td><td>NA</td></tr>\n",
       "\t<tr><td>Nias</td><td>1</td><td>1</td><td>18/2/2005</td><td><span style=white-space:pre-wrap>Labridae      </span></td><td><span style=white-space:pre-wrap>&gt;40cm  </span></td><td>0.000</td><td>0</td><td>0.2413793</td><td>1</td><td>⋯</td><td>0</td><td>0.2344771</td><td>0</td><td>0.1413399</td><td>0.01143791</td><td>1.135074</td><td>112.6667</td><td>NA</td><td>NA</td><td>NA</td></tr>\n",
       "\t<tr><td>Nias</td><td>1</td><td>1</td><td>18/2/2005</td><td>Labridae      </td><td>Total  </td><td>3.468</td><td>8</td><td>0.2413793</td><td>1</td><td>⋯</td><td>0</td><td>0.2344771</td><td>0</td><td>0.1413399</td><td>0.01143791</td><td>1.135074</td><td>112.6667</td><td>NA</td><td>NA</td><td>NA</td></tr>\n",
       "\t<tr><td>⋮</td><td>⋮</td><td>⋮</td><td>⋮</td><td>⋮</td><td>⋮</td><td>⋮</td><td>⋮</td><td>⋮</td><td>⋮</td><td>⋱</td><td>⋮</td><td>⋮</td><td>⋮</td><td>⋮</td><td>⋮</td><td>⋮</td><td>⋮</td><td>⋮</td><td>⋮</td><td>⋮</td></tr>\n",
       "\t<tr><td>Padang</td><td>2</td><td>2</td><td>04/3/2005</td><td>Pomacentridae</td><td>3-10cm </td><td>  25.920</td><td>135</td><td>0.1964286</td><td>0.4</td><td>⋯</td><td>0.08370703</td><td>0</td><td>0.09192825</td><td>0.08221226</td><td>0.004484304</td><td>1.212121</td><td>11.7</td><td>NA</td><td>NA</td><td>NA</td></tr>\n",
       "\t<tr><td>Padang</td><td>2</td><td>2</td><td>04/3/2005</td><td>Pomacentridae</td><td>10-20cm</td><td>  25.240</td><td> 20</td><td>0.1964286</td><td>0.4</td><td>⋯</td><td>0.08370703</td><td>0</td><td>0.09192825</td><td>0.08221226</td><td>0.004484304</td><td>1.212121</td><td>11.7</td><td>NA</td><td>NA</td><td>NA</td></tr>\n",
       "\t<tr><td>Padang</td><td>2</td><td>2</td><td>04/3/2005</td><td>Pomacentridae</td><td>20-30cm</td><td>   0.000</td><td>  0</td><td>0.1964286</td><td>0.4</td><td>⋯</td><td>0.08370703</td><td>0</td><td>0.09192825</td><td>0.08221226</td><td>0.004484304</td><td>1.212121</td><td>11.7</td><td>NA</td><td>NA</td><td>NA</td></tr>\n",
       "\t<tr><td>Padang</td><td>2</td><td>2</td><td>04/3/2005</td><td>Pomacentridae</td><td>30-40cm</td><td>   0.000</td><td>  0</td><td>0.1964286</td><td>0.4</td><td>⋯</td><td>0.08370703</td><td>0</td><td>0.09192825</td><td>0.08221226</td><td>0.004484304</td><td>1.212121</td><td>11.7</td><td>NA</td><td>NA</td><td>NA</td></tr>\n",
       "\t<tr><td>Padang</td><td>2</td><td>2</td><td>04/3/2005</td><td>Pomacentridae</td><td><span style=white-space:pre-wrap>&gt;40cm  </span></td><td><span style=white-space:pre-wrap>   0.000</span></td><td><span style=white-space:pre-wrap>  0</span></td><td>0.1964286</td><td>0.4</td><td>⋯</td><td>0.08370703</td><td>0</td><td>0.09192825</td><td>0.08221226</td><td>0.004484304</td><td>1.212121</td><td>11.7</td><td>NA</td><td>NA</td><td>NA</td></tr>\n",
       "\t<tr><td>Padang</td><td>2</td><td>2</td><td>04/3/2005</td><td>Pomacentridae</td><td>Total  </td><td>  51.160</td><td>155</td><td>0.1964286</td><td>0.4</td><td>⋯</td><td>0.08370703</td><td>0</td><td>0.09192825</td><td>0.08221226</td><td>0.004484304</td><td>1.212121</td><td>11.7</td><td>NA</td><td>NA</td><td>NA</td></tr>\n",
       "\t<tr><td>Padang</td><td>2</td><td>2</td><td>04/3/2005</td><td>Scaridae     </td><td>3-10cm </td><td>   6.030</td><td> 45</td><td>0.1964286</td><td>0.4</td><td>⋯</td><td>0.08370703</td><td>0</td><td>0.09192825</td><td>0.08221226</td><td>0.004484304</td><td>1.212121</td><td>11.7</td><td>NA</td><td>NA</td><td>NA</td></tr>\n",
       "\t<tr><td>Padang</td><td>2</td><td>2</td><td>04/3/2005</td><td>Scaridae     </td><td>10-20cm</td><td>   3.294</td><td>  3</td><td>0.1964286</td><td>0.4</td><td>⋯</td><td>0.08370703</td><td>0</td><td>0.09192825</td><td>0.08221226</td><td>0.004484304</td><td>1.212121</td><td>11.7</td><td>NA</td><td>NA</td><td>NA</td></tr>\n",
       "\t<tr><td>Padang</td><td>2</td><td>2</td><td>04/3/2005</td><td>Scaridae     </td><td>20-30cm</td><td>  98.078</td><td> 19</td><td>0.1964286</td><td>0.4</td><td>⋯</td><td>0.08370703</td><td>0</td><td>0.09192825</td><td>0.08221226</td><td>0.004484304</td><td>1.212121</td><td>11.7</td><td>NA</td><td>NA</td><td>NA</td></tr>\n",
       "\t<tr><td>Padang</td><td>2</td><td>2</td><td>04/3/2005</td><td>Scaridae     </td><td>30-40cm</td><td>  85.860</td><td>  6</td><td>0.1964286</td><td>0.4</td><td>⋯</td><td>0.08370703</td><td>0</td><td>0.09192825</td><td>0.08221226</td><td>0.004484304</td><td>1.212121</td><td>11.7</td><td>NA</td><td>NA</td><td>NA</td></tr>\n",
       "\t<tr><td>Padang</td><td>2</td><td>2</td><td>04/3/2005</td><td><span style=white-space:pre-wrap>Scaridae     </span></td><td><span style=white-space:pre-wrap>&gt;40cm  </span></td><td> 153.220</td><td><span style=white-space:pre-wrap>  5</span></td><td>0.1964286</td><td>0.4</td><td>⋯</td><td>0.08370703</td><td>0</td><td>0.09192825</td><td>0.08221226</td><td>0.004484304</td><td>1.212121</td><td>11.7</td><td>NA</td><td>NA</td><td>NA</td></tr>\n",
       "\t<tr><td>Padang</td><td>2</td><td>2</td><td>04/3/2005</td><td>Scaridae     </td><td>Total  </td><td> 346.000</td><td> 78</td><td>0.1964286</td><td>0.4</td><td>⋯</td><td>0.08370703</td><td>0</td><td>0.09192825</td><td>0.08221226</td><td>0.004484304</td><td>1.212121</td><td>11.7</td><td>NA</td><td>NA</td><td>NA</td></tr>\n",
       "\t<tr><td>Padang</td><td>2</td><td>2</td><td>04/3/2005</td><td>Siganidae    </td><td>3-10cm </td><td>   0.000</td><td>  0</td><td>0.1964286</td><td>0.4</td><td>⋯</td><td>0.08370703</td><td>0</td><td>0.09192825</td><td>0.08221226</td><td>0.004484304</td><td>1.212121</td><td>11.7</td><td>NA</td><td>NA</td><td>NA</td></tr>\n",
       "\t<tr><td>Padang</td><td>2</td><td>2</td><td>04/3/2005</td><td>Siganidae    </td><td>10-20cm</td><td>   0.000</td><td>  0</td><td>0.1964286</td><td>0.4</td><td>⋯</td><td>0.08370703</td><td>0</td><td>0.09192825</td><td>0.08221226</td><td>0.004484304</td><td>1.212121</td><td>11.7</td><td>NA</td><td>NA</td><td>NA</td></tr>\n",
       "\t<tr><td>Padang</td><td>2</td><td>2</td><td>04/3/2005</td><td>Siganidae    </td><td>20-30cm</td><td>  12.560</td><td>  2</td><td>0.1964286</td><td>0.4</td><td>⋯</td><td>0.08370703</td><td>0</td><td>0.09192825</td><td>0.08221226</td><td>0.004484304</td><td>1.212121</td><td>11.7</td><td>NA</td><td>NA</td><td>NA</td></tr>\n",
       "\t<tr><td>Padang</td><td>2</td><td>2</td><td>04/3/2005</td><td>Siganidae    </td><td>30-40cm</td><td>   0.000</td><td>  0</td><td>0.1964286</td><td>0.4</td><td>⋯</td><td>0.08370703</td><td>0</td><td>0.09192825</td><td>0.08221226</td><td>0.004484304</td><td>1.212121</td><td>11.7</td><td>NA</td><td>NA</td><td>NA</td></tr>\n",
       "\t<tr><td>Padang</td><td>2</td><td>2</td><td>04/3/2005</td><td><span style=white-space:pre-wrap>Siganidae    </span></td><td><span style=white-space:pre-wrap>&gt;40cm  </span></td><td><span style=white-space:pre-wrap>   0.000</span></td><td><span style=white-space:pre-wrap>  0</span></td><td>0.1964286</td><td>0.4</td><td>⋯</td><td>0.08370703</td><td>0</td><td>0.09192825</td><td>0.08221226</td><td>0.004484304</td><td>1.212121</td><td>11.7</td><td>NA</td><td>NA</td><td>NA</td></tr>\n",
       "\t<tr><td>Padang</td><td>2</td><td>2</td><td>04/3/2005</td><td>Siganidae    </td><td>Total  </td><td>  12.560</td><td>  2</td><td>0.1964286</td><td>0.4</td><td>⋯</td><td>0.08370703</td><td>0</td><td>0.09192825</td><td>0.08221226</td><td>0.004484304</td><td>1.212121</td><td>11.7</td><td>NA</td><td>NA</td><td>NA</td></tr>\n",
       "\t<tr><td>Padang</td><td>2</td><td>2</td><td>04/3/2005</td><td>Others       </td><td>3-10cm </td><td>   1.260</td><td>  3</td><td>0.1964286</td><td>0.4</td><td>⋯</td><td>0.08370703</td><td>0</td><td>0.09192825</td><td>0.08221226</td><td>0.004484304</td><td>1.212121</td><td>11.7</td><td>NA</td><td>NA</td><td>NA</td></tr>\n",
       "\t<tr><td>Padang</td><td>2</td><td>2</td><td>04/3/2005</td><td>Others       </td><td>10-20cm</td><td>  67.160</td><td> 23</td><td>0.1964286</td><td>0.4</td><td>⋯</td><td>0.08370703</td><td>0</td><td>0.09192825</td><td>0.08221226</td><td>0.004484304</td><td>1.212121</td><td>11.7</td><td>NA</td><td>NA</td><td>NA</td></tr>\n",
       "\t<tr><td>Padang</td><td>2</td><td>2</td><td>04/3/2005</td><td>Others       </td><td>20-30cm</td><td>  97.424</td><td>  8</td><td>0.1964286</td><td>0.4</td><td>⋯</td><td>0.08370703</td><td>0</td><td>0.09192825</td><td>0.08221226</td><td>0.004484304</td><td>1.212121</td><td>11.7</td><td>NA</td><td>NA</td><td>NA</td></tr>\n",
       "\t<tr><td>Padang</td><td>2</td><td>2</td><td>04/3/2005</td><td>Others       </td><td>30-40cm</td><td>  93.600</td><td>  3</td><td>0.1964286</td><td>0.4</td><td>⋯</td><td>0.08370703</td><td>0</td><td>0.09192825</td><td>0.08221226</td><td>0.004484304</td><td>1.212121</td><td>11.7</td><td>NA</td><td>NA</td><td>NA</td></tr>\n",
       "\t<tr><td>Padang</td><td>2</td><td>2</td><td>04/3/2005</td><td><span style=white-space:pre-wrap>Others       </span></td><td><span style=white-space:pre-wrap>&gt;40cm  </span></td><td><span style=white-space:pre-wrap>   0.000</span></td><td><span style=white-space:pre-wrap>  0</span></td><td>0.1964286</td><td>0.4</td><td>⋯</td><td>0.08370703</td><td>0</td><td>0.09192825</td><td>0.08221226</td><td>0.004484304</td><td>1.212121</td><td>11.7</td><td>NA</td><td>NA</td><td>NA</td></tr>\n",
       "\t<tr><td>Padang</td><td>2</td><td>2</td><td>04/3/2005</td><td>Others       </td><td>Total  </td><td> 259.444</td><td> 37</td><td>0.1964286</td><td>0.4</td><td>⋯</td><td>0.08370703</td><td>0</td><td>0.09192825</td><td>0.08221226</td><td>0.004484304</td><td>1.212121</td><td>11.7</td><td>NA</td><td>NA</td><td>NA</td></tr>\n",
       "\t<tr><td>Padang</td><td>2</td><td>2</td><td>04/3/2005</td><td>All_groups   </td><td>3-10cm </td><td>  51.878</td><td>277</td><td>0.1964286</td><td>0.4</td><td>⋯</td><td>0.08370703</td><td>0</td><td>0.09192825</td><td>0.08221226</td><td>0.004484304</td><td>1.212121</td><td>11.7</td><td>NA</td><td>NA</td><td>NA</td></tr>\n",
       "\t<tr><td>Padang</td><td>2</td><td>2</td><td>04/3/2005</td><td>All_groups   </td><td>10-20cm</td><td> 179.560</td><td> 94</td><td>0.1964286</td><td>0.4</td><td>⋯</td><td>0.08370703</td><td>0</td><td>0.09192825</td><td>0.08221226</td><td>0.004484304</td><td>1.212121</td><td>11.7</td><td>NA</td><td>NA</td><td>NA</td></tr>\n",
       "\t<tr><td>Padang</td><td>2</td><td>2</td><td>04/3/2005</td><td>All_groups   </td><td>20-30cm</td><td> 326.394</td><td> 46</td><td>0.1964286</td><td>0.4</td><td>⋯</td><td>0.08370703</td><td>0</td><td>0.09192825</td><td>0.08221226</td><td>0.004484304</td><td>1.212121</td><td>11.7</td><td>NA</td><td>NA</td><td>NA</td></tr>\n",
       "\t<tr><td>Padang</td><td>2</td><td>2</td><td>04/3/2005</td><td>All_groups   </td><td>30-40cm</td><td> 432.034</td><td> 27</td><td>0.1964286</td><td>0.4</td><td>⋯</td><td>0.08370703</td><td>0</td><td>0.09192825</td><td>0.08221226</td><td>0.004484304</td><td>1.212121</td><td>11.7</td><td>NA</td><td>NA</td><td>NA</td></tr>\n",
       "\t<tr><td>Padang</td><td>2</td><td>2</td><td>04/3/2005</td><td><span style=white-space:pre-wrap>All_groups   </span></td><td><span style=white-space:pre-wrap>&gt;40cm  </span></td><td> 405.222</td><td> 15</td><td>0.1964286</td><td>0.4</td><td>⋯</td><td>0.08370703</td><td>0</td><td>0.09192825</td><td>0.08221226</td><td>0.004484304</td><td>1.212121</td><td>11.7</td><td>NA</td><td>NA</td><td>NA</td></tr>\n",
       "\t<tr><td>Padang</td><td>2</td><td>2</td><td>04/3/2005</td><td>All_groups   </td><td>Total  </td><td>1395.092</td><td>459</td><td>0.1964286</td><td>0.4</td><td>⋯</td><td>0.08370703</td><td>0</td><td>0.09192825</td><td>0.08221226</td><td>0.004484304</td><td>1.212121</td><td>11.7</td><td>NA</td><td>NA</td><td>NA</td></tr>\n",
       "</tbody>\n",
       "</table>\n"
      ],
      "text/latex": [
       "A data.frame: 624 × 24\n",
       "\\begin{tabular}{r|llllllllllllllllllllllll}\n",
       " Location & Site & Transect & Date & Family\\_group & Size\\_class & Biomass & Abundance & Avg\\_herbivory & Avg\\_predation & Hard\\_coral & Turf & Calcareous & Fleshy\\_algae & Coralline & Seagrass & Soft\\_coral & Sand & Sponge & Rugosity & Urchins & X & X.1 & X.2\\\\\n",
       " <fct> & <int> & <int> & <fct> & <fct> & <fct> & <dbl> & <int> & <dbl> & <dbl> & <dbl> & <dbl> & <dbl> & <dbl> & <dbl> & <dbl> & <dbl> & <dbl> & <dbl> & <dbl> & <dbl> & <lgl> & <lgl> & <lgl>\\\\\n",
       "\\hline\n",
       "\t Nias & 1 & 1 & 18/2/2005 & Acanthuridae   & 3-10cm  & 0.000 & 0 & 0.2413793 & 1 & 0.2565359 & 0.3562091 & 0 & 0 & 0 & 0.2344771 & 0 & 0.1413399 & 0.01143791 & 1.135074 & 112.6667 & NA & NA & NA\\\\\n",
       "\t Nias & 1 & 1 & 18/2/2005 & Acanthuridae   & 10-20cm & 0.000 & 0 & 0.2413793 & 1 & 0.2565359 & 0.3562091 & 0 & 0 & 0 & 0.2344771 & 0 & 0.1413399 & 0.01143791 & 1.135074 & 112.6667 & NA & NA & NA\\\\\n",
       "\t Nias & 1 & 1 & 18/2/2005 & Acanthuridae   & 20-30cm & 0.000 & 0 & 0.2413793 & 1 & 0.2565359 & 0.3562091 & 0 & 0 & 0 & 0.2344771 & 0 & 0.1413399 & 0.01143791 & 1.135074 & 112.6667 & NA & NA & NA\\\\\n",
       "\t Nias & 1 & 1 & 18/2/2005 & Acanthuridae   & 30-40cm & 0.000 & 0 & 0.2413793 & 1 & 0.2565359 & 0.3562091 & 0 & 0 & 0 & 0.2344771 & 0 & 0.1413399 & 0.01143791 & 1.135074 & 112.6667 & NA & NA & NA\\\\\n",
       "\t Nias & 1 & 1 & 18/2/2005 & Acanthuridae   & >40cm   & 0.000 & 0 & 0.2413793 & 1 & 0.2565359 & 0.3562091 & 0 & 0 & 0 & 0.2344771 & 0 & 0.1413399 & 0.01143791 & 1.135074 & 112.6667 & NA & NA & NA\\\\\n",
       "\t Nias & 1 & 1 & 18/2/2005 & Acanthuridae   & Total   & 0.000 & 0 & 0.2413793 & 1 & 0.2565359 & 0.3562091 & 0 & 0 & 0 & 0.2344771 & 0 & 0.1413399 & 0.01143791 & 1.135074 & 112.6667 & NA & NA & NA\\\\\n",
       "\t Nias & 1 & 1 & 18/2/2005 & Balistidae     & 3-10cm  & 0.000 & 0 & 0.2413793 & 1 & 0.2565359 & 0.3562091 & 0 & 0 & 0 & 0.2344771 & 0 & 0.1413399 & 0.01143791 & 1.135074 & 112.6667 & NA & NA & NA\\\\\n",
       "\t Nias & 1 & 1 & 18/2/2005 & Balistidae     & 10-20cm & 0.000 & 0 & 0.2413793 & 1 & 0.2565359 & 0.3562091 & 0 & 0 & 0 & 0.2344771 & 0 & 0.1413399 & 0.01143791 & 1.135074 & 112.6667 & NA & NA & NA\\\\\n",
       "\t Nias & 1 & 1 & 18/2/2005 & Balistidae     & 20-30cm & 0.000 & 0 & 0.2413793 & 1 & 0.2565359 & 0.3562091 & 0 & 0 & 0 & 0.2344771 & 0 & 0.1413399 & 0.01143791 & 1.135074 & 112.6667 & NA & NA & NA\\\\\n",
       "\t Nias & 1 & 1 & 18/2/2005 & Balistidae     & 30-40cm & 0.000 & 0 & 0.2413793 & 1 & 0.2565359 & 0.3562091 & 0 & 0 & 0 & 0.2344771 & 0 & 0.1413399 & 0.01143791 & 1.135074 & 112.6667 & NA & NA & NA\\\\\n",
       "\t Nias & 1 & 1 & 18/2/2005 & Balistidae     & >40cm   & 0.000 & 0 & 0.2413793 & 1 & 0.2565359 & 0.3562091 & 0 & 0 & 0 & 0.2344771 & 0 & 0.1413399 & 0.01143791 & 1.135074 & 112.6667 & NA & NA & NA\\\\\n",
       "\t Nias & 1 & 1 & 18/2/2005 & Balistidae     & Total   & 0.000 & 0 & 0.2413793 & 1 & 0.2565359 & 0.3562091 & 0 & 0 & 0 & 0.2344771 & 0 & 0.1413399 & 0.01143791 & 1.135074 & 112.6667 & NA & NA & NA\\\\\n",
       "\t Nias & 1 & 1 & 18/2/2005 & Chaetodontidae & 3-10cm  & 0.448 & 2 & 0.2413793 & 1 & 0.2565359 & 0.3562091 & 0 & 0 & 0 & 0.2344771 & 0 & 0.1413399 & 0.01143791 & 1.135074 & 112.6667 & NA & NA & NA\\\\\n",
       "\t Nias & 1 & 1 & 18/2/2005 & Chaetodontidae & 10-20cm & 1.780 & 1 & 0.2413793 & 1 & 0.2565359 & 0.3562091 & 0 & 0 & 0 & 0.2344771 & 0 & 0.1413399 & 0.01143791 & 1.135074 & 112.6667 & NA & NA & NA\\\\\n",
       "\t Nias & 1 & 1 & 18/2/2005 & Chaetodontidae & 20-30cm & 0.000 & 0 & 0.2413793 & 1 & 0.2565359 & 0.3562091 & 0 & 0 & 0 & 0.2344771 & 0 & 0.1413399 & 0.01143791 & 1.135074 & 112.6667 & NA & NA & NA\\\\\n",
       "\t Nias & 1 & 1 & 18/2/2005 & Chaetodontidae & 30-40cm & 0.000 & 0 & 0.2413793 & 1 & 0.2565359 & 0.3562091 & 0 & 0 & 0 & 0.2344771 & 0 & 0.1413399 & 0.01143791 & 1.135074 & 112.6667 & NA & NA & NA\\\\\n",
       "\t Nias & 1 & 1 & 18/2/2005 & Chaetodontidae & >40cm   & 0.000 & 0 & 0.2413793 & 1 & 0.2565359 & 0.3562091 & 0 & 0 & 0 & 0.2344771 & 0 & 0.1413399 & 0.01143791 & 1.135074 & 112.6667 & NA & NA & NA\\\\\n",
       "\t Nias & 1 & 1 & 18/2/2005 & Chaetodontidae & Total   & 2.228 & 3 & 0.2413793 & 1 & 0.2565359 & 0.3562091 & 0 & 0 & 0 & 0.2344771 & 0 & 0.1413399 & 0.01143791 & 1.135074 & 112.6667 & NA & NA & NA\\\\\n",
       "\t Nias & 1 & 1 & 18/2/2005 & Diodontidae    & 3-10cm  & 0.000 & 0 & 0.2413793 & 1 & 0.2565359 & 0.3562091 & 0 & 0 & 0 & 0.2344771 & 0 & 0.1413399 & 0.01143791 & 1.135074 & 112.6667 & NA & NA & NA\\\\\n",
       "\t Nias & 1 & 1 & 18/2/2005 & Diodontidae    & 10-20cm & 0.000 & 0 & 0.2413793 & 1 & 0.2565359 & 0.3562091 & 0 & 0 & 0 & 0.2344771 & 0 & 0.1413399 & 0.01143791 & 1.135074 & 112.6667 & NA & NA & NA\\\\\n",
       "\t Nias & 1 & 1 & 18/2/2005 & Diodontidae    & 20-30cm & 0.000 & 0 & 0.2413793 & 1 & 0.2565359 & 0.3562091 & 0 & 0 & 0 & 0.2344771 & 0 & 0.1413399 & 0.01143791 & 1.135074 & 112.6667 & NA & NA & NA\\\\\n",
       "\t Nias & 1 & 1 & 18/2/2005 & Diodontidae    & 30-40cm & 0.000 & 0 & 0.2413793 & 1 & 0.2565359 & 0.3562091 & 0 & 0 & 0 & 0.2344771 & 0 & 0.1413399 & 0.01143791 & 1.135074 & 112.6667 & NA & NA & NA\\\\\n",
       "\t Nias & 1 & 1 & 18/2/2005 & Diodontidae    & >40cm   & 0.000 & 0 & 0.2413793 & 1 & 0.2565359 & 0.3562091 & 0 & 0 & 0 & 0.2344771 & 0 & 0.1413399 & 0.01143791 & 1.135074 & 112.6667 & NA & NA & NA\\\\\n",
       "\t Nias & 1 & 1 & 18/2/2005 & Diodontidae    & Total   & 0.000 & 0 & 0.2413793 & 1 & 0.2565359 & 0.3562091 & 0 & 0 & 0 & 0.2344771 & 0 & 0.1413399 & 0.01143791 & 1.135074 & 112.6667 & NA & NA & NA\\\\\n",
       "\t Nias & 1 & 1 & 18/2/2005 & Labridae       & 3-10cm  & 1.164 & 6 & 0.2413793 & 1 & 0.2565359 & 0.3562091 & 0 & 0 & 0 & 0.2344771 & 0 & 0.1413399 & 0.01143791 & 1.135074 & 112.6667 & NA & NA & NA\\\\\n",
       "\t Nias & 1 & 1 & 18/2/2005 & Labridae       & 10-20cm & 2.304 & 2 & 0.2413793 & 1 & 0.2565359 & 0.3562091 & 0 & 0 & 0 & 0.2344771 & 0 & 0.1413399 & 0.01143791 & 1.135074 & 112.6667 & NA & NA & NA\\\\\n",
       "\t Nias & 1 & 1 & 18/2/2005 & Labridae       & 20-30cm & 0.000 & 0 & 0.2413793 & 1 & 0.2565359 & 0.3562091 & 0 & 0 & 0 & 0.2344771 & 0 & 0.1413399 & 0.01143791 & 1.135074 & 112.6667 & NA & NA & NA\\\\\n",
       "\t Nias & 1 & 1 & 18/2/2005 & Labridae       & 30-40cm & 0.000 & 0 & 0.2413793 & 1 & 0.2565359 & 0.3562091 & 0 & 0 & 0 & 0.2344771 & 0 & 0.1413399 & 0.01143791 & 1.135074 & 112.6667 & NA & NA & NA\\\\\n",
       "\t Nias & 1 & 1 & 18/2/2005 & Labridae       & >40cm   & 0.000 & 0 & 0.2413793 & 1 & 0.2565359 & 0.3562091 & 0 & 0 & 0 & 0.2344771 & 0 & 0.1413399 & 0.01143791 & 1.135074 & 112.6667 & NA & NA & NA\\\\\n",
       "\t Nias & 1 & 1 & 18/2/2005 & Labridae       & Total   & 3.468 & 8 & 0.2413793 & 1 & 0.2565359 & 0.3562091 & 0 & 0 & 0 & 0.2344771 & 0 & 0.1413399 & 0.01143791 & 1.135074 & 112.6667 & NA & NA & NA\\\\\n",
       "\t ⋮ & ⋮ & ⋮ & ⋮ & ⋮ & ⋮ & ⋮ & ⋮ & ⋮ & ⋮ & ⋮ & ⋮ & ⋮ & ⋮ & ⋮ & ⋮ & ⋮ & ⋮ & ⋮ & ⋮ & ⋮ & ⋮ & ⋮ & ⋮\\\\\n",
       "\t Padang & 2 & 2 & 04/3/2005 & Pomacentridae & 3-10cm  &   25.920 & 135 & 0.1964286 & 0.4 & 0.3310912 & 0.2825112 & 0 & 0.1240658 & 0.08370703 & 0 & 0.09192825 & 0.08221226 & 0.004484304 & 1.212121 & 11.7 & NA & NA & NA\\\\\n",
       "\t Padang & 2 & 2 & 04/3/2005 & Pomacentridae & 10-20cm &   25.240 &  20 & 0.1964286 & 0.4 & 0.3310912 & 0.2825112 & 0 & 0.1240658 & 0.08370703 & 0 & 0.09192825 & 0.08221226 & 0.004484304 & 1.212121 & 11.7 & NA & NA & NA\\\\\n",
       "\t Padang & 2 & 2 & 04/3/2005 & Pomacentridae & 20-30cm &    0.000 &   0 & 0.1964286 & 0.4 & 0.3310912 & 0.2825112 & 0 & 0.1240658 & 0.08370703 & 0 & 0.09192825 & 0.08221226 & 0.004484304 & 1.212121 & 11.7 & NA & NA & NA\\\\\n",
       "\t Padang & 2 & 2 & 04/3/2005 & Pomacentridae & 30-40cm &    0.000 &   0 & 0.1964286 & 0.4 & 0.3310912 & 0.2825112 & 0 & 0.1240658 & 0.08370703 & 0 & 0.09192825 & 0.08221226 & 0.004484304 & 1.212121 & 11.7 & NA & NA & NA\\\\\n",
       "\t Padang & 2 & 2 & 04/3/2005 & Pomacentridae & >40cm   &    0.000 &   0 & 0.1964286 & 0.4 & 0.3310912 & 0.2825112 & 0 & 0.1240658 & 0.08370703 & 0 & 0.09192825 & 0.08221226 & 0.004484304 & 1.212121 & 11.7 & NA & NA & NA\\\\\n",
       "\t Padang & 2 & 2 & 04/3/2005 & Pomacentridae & Total   &   51.160 & 155 & 0.1964286 & 0.4 & 0.3310912 & 0.2825112 & 0 & 0.1240658 & 0.08370703 & 0 & 0.09192825 & 0.08221226 & 0.004484304 & 1.212121 & 11.7 & NA & NA & NA\\\\\n",
       "\t Padang & 2 & 2 & 04/3/2005 & Scaridae      & 3-10cm  &    6.030 &  45 & 0.1964286 & 0.4 & 0.3310912 & 0.2825112 & 0 & 0.1240658 & 0.08370703 & 0 & 0.09192825 & 0.08221226 & 0.004484304 & 1.212121 & 11.7 & NA & NA & NA\\\\\n",
       "\t Padang & 2 & 2 & 04/3/2005 & Scaridae      & 10-20cm &    3.294 &   3 & 0.1964286 & 0.4 & 0.3310912 & 0.2825112 & 0 & 0.1240658 & 0.08370703 & 0 & 0.09192825 & 0.08221226 & 0.004484304 & 1.212121 & 11.7 & NA & NA & NA\\\\\n",
       "\t Padang & 2 & 2 & 04/3/2005 & Scaridae      & 20-30cm &   98.078 &  19 & 0.1964286 & 0.4 & 0.3310912 & 0.2825112 & 0 & 0.1240658 & 0.08370703 & 0 & 0.09192825 & 0.08221226 & 0.004484304 & 1.212121 & 11.7 & NA & NA & NA\\\\\n",
       "\t Padang & 2 & 2 & 04/3/2005 & Scaridae      & 30-40cm &   85.860 &   6 & 0.1964286 & 0.4 & 0.3310912 & 0.2825112 & 0 & 0.1240658 & 0.08370703 & 0 & 0.09192825 & 0.08221226 & 0.004484304 & 1.212121 & 11.7 & NA & NA & NA\\\\\n",
       "\t Padang & 2 & 2 & 04/3/2005 & Scaridae      & >40cm   &  153.220 &   5 & 0.1964286 & 0.4 & 0.3310912 & 0.2825112 & 0 & 0.1240658 & 0.08370703 & 0 & 0.09192825 & 0.08221226 & 0.004484304 & 1.212121 & 11.7 & NA & NA & NA\\\\\n",
       "\t Padang & 2 & 2 & 04/3/2005 & Scaridae      & Total   &  346.000 &  78 & 0.1964286 & 0.4 & 0.3310912 & 0.2825112 & 0 & 0.1240658 & 0.08370703 & 0 & 0.09192825 & 0.08221226 & 0.004484304 & 1.212121 & 11.7 & NA & NA & NA\\\\\n",
       "\t Padang & 2 & 2 & 04/3/2005 & Siganidae     & 3-10cm  &    0.000 &   0 & 0.1964286 & 0.4 & 0.3310912 & 0.2825112 & 0 & 0.1240658 & 0.08370703 & 0 & 0.09192825 & 0.08221226 & 0.004484304 & 1.212121 & 11.7 & NA & NA & NA\\\\\n",
       "\t Padang & 2 & 2 & 04/3/2005 & Siganidae     & 10-20cm &    0.000 &   0 & 0.1964286 & 0.4 & 0.3310912 & 0.2825112 & 0 & 0.1240658 & 0.08370703 & 0 & 0.09192825 & 0.08221226 & 0.004484304 & 1.212121 & 11.7 & NA & NA & NA\\\\\n",
       "\t Padang & 2 & 2 & 04/3/2005 & Siganidae     & 20-30cm &   12.560 &   2 & 0.1964286 & 0.4 & 0.3310912 & 0.2825112 & 0 & 0.1240658 & 0.08370703 & 0 & 0.09192825 & 0.08221226 & 0.004484304 & 1.212121 & 11.7 & NA & NA & NA\\\\\n",
       "\t Padang & 2 & 2 & 04/3/2005 & Siganidae     & 30-40cm &    0.000 &   0 & 0.1964286 & 0.4 & 0.3310912 & 0.2825112 & 0 & 0.1240658 & 0.08370703 & 0 & 0.09192825 & 0.08221226 & 0.004484304 & 1.212121 & 11.7 & NA & NA & NA\\\\\n",
       "\t Padang & 2 & 2 & 04/3/2005 & Siganidae     & >40cm   &    0.000 &   0 & 0.1964286 & 0.4 & 0.3310912 & 0.2825112 & 0 & 0.1240658 & 0.08370703 & 0 & 0.09192825 & 0.08221226 & 0.004484304 & 1.212121 & 11.7 & NA & NA & NA\\\\\n",
       "\t Padang & 2 & 2 & 04/3/2005 & Siganidae     & Total   &   12.560 &   2 & 0.1964286 & 0.4 & 0.3310912 & 0.2825112 & 0 & 0.1240658 & 0.08370703 & 0 & 0.09192825 & 0.08221226 & 0.004484304 & 1.212121 & 11.7 & NA & NA & NA\\\\\n",
       "\t Padang & 2 & 2 & 04/3/2005 & Others        & 3-10cm  &    1.260 &   3 & 0.1964286 & 0.4 & 0.3310912 & 0.2825112 & 0 & 0.1240658 & 0.08370703 & 0 & 0.09192825 & 0.08221226 & 0.004484304 & 1.212121 & 11.7 & NA & NA & NA\\\\\n",
       "\t Padang & 2 & 2 & 04/3/2005 & Others        & 10-20cm &   67.160 &  23 & 0.1964286 & 0.4 & 0.3310912 & 0.2825112 & 0 & 0.1240658 & 0.08370703 & 0 & 0.09192825 & 0.08221226 & 0.004484304 & 1.212121 & 11.7 & NA & NA & NA\\\\\n",
       "\t Padang & 2 & 2 & 04/3/2005 & Others        & 20-30cm &   97.424 &   8 & 0.1964286 & 0.4 & 0.3310912 & 0.2825112 & 0 & 0.1240658 & 0.08370703 & 0 & 0.09192825 & 0.08221226 & 0.004484304 & 1.212121 & 11.7 & NA & NA & NA\\\\\n",
       "\t Padang & 2 & 2 & 04/3/2005 & Others        & 30-40cm &   93.600 &   3 & 0.1964286 & 0.4 & 0.3310912 & 0.2825112 & 0 & 0.1240658 & 0.08370703 & 0 & 0.09192825 & 0.08221226 & 0.004484304 & 1.212121 & 11.7 & NA & NA & NA\\\\\n",
       "\t Padang & 2 & 2 & 04/3/2005 & Others        & >40cm   &    0.000 &   0 & 0.1964286 & 0.4 & 0.3310912 & 0.2825112 & 0 & 0.1240658 & 0.08370703 & 0 & 0.09192825 & 0.08221226 & 0.004484304 & 1.212121 & 11.7 & NA & NA & NA\\\\\n",
       "\t Padang & 2 & 2 & 04/3/2005 & Others        & Total   &  259.444 &  37 & 0.1964286 & 0.4 & 0.3310912 & 0.2825112 & 0 & 0.1240658 & 0.08370703 & 0 & 0.09192825 & 0.08221226 & 0.004484304 & 1.212121 & 11.7 & NA & NA & NA\\\\\n",
       "\t Padang & 2 & 2 & 04/3/2005 & All\\_groups    & 3-10cm  &   51.878 & 277 & 0.1964286 & 0.4 & 0.3310912 & 0.2825112 & 0 & 0.1240658 & 0.08370703 & 0 & 0.09192825 & 0.08221226 & 0.004484304 & 1.212121 & 11.7 & NA & NA & NA\\\\\n",
       "\t Padang & 2 & 2 & 04/3/2005 & All\\_groups    & 10-20cm &  179.560 &  94 & 0.1964286 & 0.4 & 0.3310912 & 0.2825112 & 0 & 0.1240658 & 0.08370703 & 0 & 0.09192825 & 0.08221226 & 0.004484304 & 1.212121 & 11.7 & NA & NA & NA\\\\\n",
       "\t Padang & 2 & 2 & 04/3/2005 & All\\_groups    & 20-30cm &  326.394 &  46 & 0.1964286 & 0.4 & 0.3310912 & 0.2825112 & 0 & 0.1240658 & 0.08370703 & 0 & 0.09192825 & 0.08221226 & 0.004484304 & 1.212121 & 11.7 & NA & NA & NA\\\\\n",
       "\t Padang & 2 & 2 & 04/3/2005 & All\\_groups    & 30-40cm &  432.034 &  27 & 0.1964286 & 0.4 & 0.3310912 & 0.2825112 & 0 & 0.1240658 & 0.08370703 & 0 & 0.09192825 & 0.08221226 & 0.004484304 & 1.212121 & 11.7 & NA & NA & NA\\\\\n",
       "\t Padang & 2 & 2 & 04/3/2005 & All\\_groups    & >40cm   &  405.222 &  15 & 0.1964286 & 0.4 & 0.3310912 & 0.2825112 & 0 & 0.1240658 & 0.08370703 & 0 & 0.09192825 & 0.08221226 & 0.004484304 & 1.212121 & 11.7 & NA & NA & NA\\\\\n",
       "\t Padang & 2 & 2 & 04/3/2005 & All\\_groups    & Total   & 1395.092 & 459 & 0.1964286 & 0.4 & 0.3310912 & 0.2825112 & 0 & 0.1240658 & 0.08370703 & 0 & 0.09192825 & 0.08221226 & 0.004484304 & 1.212121 & 11.7 & NA & NA & NA\\\\\n",
       "\\end{tabular}\n"
      ],
      "text/markdown": [
       "\n",
       "A data.frame: 624 × 24\n",
       "\n",
       "| Location &lt;fct&gt; | Site &lt;int&gt; | Transect &lt;int&gt; | Date &lt;fct&gt; | Family_group &lt;fct&gt; | Size_class &lt;fct&gt; | Biomass &lt;dbl&gt; | Abundance &lt;int&gt; | Avg_herbivory &lt;dbl&gt; | Avg_predation &lt;dbl&gt; | ⋯ ⋯ | Coralline &lt;dbl&gt; | Seagrass &lt;dbl&gt; | Soft_coral &lt;dbl&gt; | Sand &lt;dbl&gt; | Sponge &lt;dbl&gt; | Rugosity &lt;dbl&gt; | Urchins &lt;dbl&gt; | X &lt;lgl&gt; | X.1 &lt;lgl&gt; | X.2 &lt;lgl&gt; |\n",
       "|---|---|---|---|---|---|---|---|---|---|---|---|---|---|---|---|---|---|---|---|---|\n",
       "| Nias | 1 | 1 | 18/2/2005 | Acanthuridae   | 3-10cm  | 0.000 | 0 | 0.2413793 | 1 | ⋯ | 0 | 0.2344771 | 0 | 0.1413399 | 0.01143791 | 1.135074 | 112.6667 | NA | NA | NA |\n",
       "| Nias | 1 | 1 | 18/2/2005 | Acanthuridae   | 10-20cm | 0.000 | 0 | 0.2413793 | 1 | ⋯ | 0 | 0.2344771 | 0 | 0.1413399 | 0.01143791 | 1.135074 | 112.6667 | NA | NA | NA |\n",
       "| Nias | 1 | 1 | 18/2/2005 | Acanthuridae   | 20-30cm | 0.000 | 0 | 0.2413793 | 1 | ⋯ | 0 | 0.2344771 | 0 | 0.1413399 | 0.01143791 | 1.135074 | 112.6667 | NA | NA | NA |\n",
       "| Nias | 1 | 1 | 18/2/2005 | Acanthuridae   | 30-40cm | 0.000 | 0 | 0.2413793 | 1 | ⋯ | 0 | 0.2344771 | 0 | 0.1413399 | 0.01143791 | 1.135074 | 112.6667 | NA | NA | NA |\n",
       "| Nias | 1 | 1 | 18/2/2005 | Acanthuridae   | &gt;40cm   | 0.000 | 0 | 0.2413793 | 1 | ⋯ | 0 | 0.2344771 | 0 | 0.1413399 | 0.01143791 | 1.135074 | 112.6667 | NA | NA | NA |\n",
       "| Nias | 1 | 1 | 18/2/2005 | Acanthuridae   | Total   | 0.000 | 0 | 0.2413793 | 1 | ⋯ | 0 | 0.2344771 | 0 | 0.1413399 | 0.01143791 | 1.135074 | 112.6667 | NA | NA | NA |\n",
       "| Nias | 1 | 1 | 18/2/2005 | Balistidae     | 3-10cm  | 0.000 | 0 | 0.2413793 | 1 | ⋯ | 0 | 0.2344771 | 0 | 0.1413399 | 0.01143791 | 1.135074 | 112.6667 | NA | NA | NA |\n",
       "| Nias | 1 | 1 | 18/2/2005 | Balistidae     | 10-20cm | 0.000 | 0 | 0.2413793 | 1 | ⋯ | 0 | 0.2344771 | 0 | 0.1413399 | 0.01143791 | 1.135074 | 112.6667 | NA | NA | NA |\n",
       "| Nias | 1 | 1 | 18/2/2005 | Balistidae     | 20-30cm | 0.000 | 0 | 0.2413793 | 1 | ⋯ | 0 | 0.2344771 | 0 | 0.1413399 | 0.01143791 | 1.135074 | 112.6667 | NA | NA | NA |\n",
       "| Nias | 1 | 1 | 18/2/2005 | Balistidae     | 30-40cm | 0.000 | 0 | 0.2413793 | 1 | ⋯ | 0 | 0.2344771 | 0 | 0.1413399 | 0.01143791 | 1.135074 | 112.6667 | NA | NA | NA |\n",
       "| Nias | 1 | 1 | 18/2/2005 | Balistidae     | &gt;40cm   | 0.000 | 0 | 0.2413793 | 1 | ⋯ | 0 | 0.2344771 | 0 | 0.1413399 | 0.01143791 | 1.135074 | 112.6667 | NA | NA | NA |\n",
       "| Nias | 1 | 1 | 18/2/2005 | Balistidae     | Total   | 0.000 | 0 | 0.2413793 | 1 | ⋯ | 0 | 0.2344771 | 0 | 0.1413399 | 0.01143791 | 1.135074 | 112.6667 | NA | NA | NA |\n",
       "| Nias | 1 | 1 | 18/2/2005 | Chaetodontidae | 3-10cm  | 0.448 | 2 | 0.2413793 | 1 | ⋯ | 0 | 0.2344771 | 0 | 0.1413399 | 0.01143791 | 1.135074 | 112.6667 | NA | NA | NA |\n",
       "| Nias | 1 | 1 | 18/2/2005 | Chaetodontidae | 10-20cm | 1.780 | 1 | 0.2413793 | 1 | ⋯ | 0 | 0.2344771 | 0 | 0.1413399 | 0.01143791 | 1.135074 | 112.6667 | NA | NA | NA |\n",
       "| Nias | 1 | 1 | 18/2/2005 | Chaetodontidae | 20-30cm | 0.000 | 0 | 0.2413793 | 1 | ⋯ | 0 | 0.2344771 | 0 | 0.1413399 | 0.01143791 | 1.135074 | 112.6667 | NA | NA | NA |\n",
       "| Nias | 1 | 1 | 18/2/2005 | Chaetodontidae | 30-40cm | 0.000 | 0 | 0.2413793 | 1 | ⋯ | 0 | 0.2344771 | 0 | 0.1413399 | 0.01143791 | 1.135074 | 112.6667 | NA | NA | NA |\n",
       "| Nias | 1 | 1 | 18/2/2005 | Chaetodontidae | &gt;40cm   | 0.000 | 0 | 0.2413793 | 1 | ⋯ | 0 | 0.2344771 | 0 | 0.1413399 | 0.01143791 | 1.135074 | 112.6667 | NA | NA | NA |\n",
       "| Nias | 1 | 1 | 18/2/2005 | Chaetodontidae | Total   | 2.228 | 3 | 0.2413793 | 1 | ⋯ | 0 | 0.2344771 | 0 | 0.1413399 | 0.01143791 | 1.135074 | 112.6667 | NA | NA | NA |\n",
       "| Nias | 1 | 1 | 18/2/2005 | Diodontidae    | 3-10cm  | 0.000 | 0 | 0.2413793 | 1 | ⋯ | 0 | 0.2344771 | 0 | 0.1413399 | 0.01143791 | 1.135074 | 112.6667 | NA | NA | NA |\n",
       "| Nias | 1 | 1 | 18/2/2005 | Diodontidae    | 10-20cm | 0.000 | 0 | 0.2413793 | 1 | ⋯ | 0 | 0.2344771 | 0 | 0.1413399 | 0.01143791 | 1.135074 | 112.6667 | NA | NA | NA |\n",
       "| Nias | 1 | 1 | 18/2/2005 | Diodontidae    | 20-30cm | 0.000 | 0 | 0.2413793 | 1 | ⋯ | 0 | 0.2344771 | 0 | 0.1413399 | 0.01143791 | 1.135074 | 112.6667 | NA | NA | NA |\n",
       "| Nias | 1 | 1 | 18/2/2005 | Diodontidae    | 30-40cm | 0.000 | 0 | 0.2413793 | 1 | ⋯ | 0 | 0.2344771 | 0 | 0.1413399 | 0.01143791 | 1.135074 | 112.6667 | NA | NA | NA |\n",
       "| Nias | 1 | 1 | 18/2/2005 | Diodontidae    | &gt;40cm   | 0.000 | 0 | 0.2413793 | 1 | ⋯ | 0 | 0.2344771 | 0 | 0.1413399 | 0.01143791 | 1.135074 | 112.6667 | NA | NA | NA |\n",
       "| Nias | 1 | 1 | 18/2/2005 | Diodontidae    | Total   | 0.000 | 0 | 0.2413793 | 1 | ⋯ | 0 | 0.2344771 | 0 | 0.1413399 | 0.01143791 | 1.135074 | 112.6667 | NA | NA | NA |\n",
       "| Nias | 1 | 1 | 18/2/2005 | Labridae       | 3-10cm  | 1.164 | 6 | 0.2413793 | 1 | ⋯ | 0 | 0.2344771 | 0 | 0.1413399 | 0.01143791 | 1.135074 | 112.6667 | NA | NA | NA |\n",
       "| Nias | 1 | 1 | 18/2/2005 | Labridae       | 10-20cm | 2.304 | 2 | 0.2413793 | 1 | ⋯ | 0 | 0.2344771 | 0 | 0.1413399 | 0.01143791 | 1.135074 | 112.6667 | NA | NA | NA |\n",
       "| Nias | 1 | 1 | 18/2/2005 | Labridae       | 20-30cm | 0.000 | 0 | 0.2413793 | 1 | ⋯ | 0 | 0.2344771 | 0 | 0.1413399 | 0.01143791 | 1.135074 | 112.6667 | NA | NA | NA |\n",
       "| Nias | 1 | 1 | 18/2/2005 | Labridae       | 30-40cm | 0.000 | 0 | 0.2413793 | 1 | ⋯ | 0 | 0.2344771 | 0 | 0.1413399 | 0.01143791 | 1.135074 | 112.6667 | NA | NA | NA |\n",
       "| Nias | 1 | 1 | 18/2/2005 | Labridae       | &gt;40cm   | 0.000 | 0 | 0.2413793 | 1 | ⋯ | 0 | 0.2344771 | 0 | 0.1413399 | 0.01143791 | 1.135074 | 112.6667 | NA | NA | NA |\n",
       "| Nias | 1 | 1 | 18/2/2005 | Labridae       | Total   | 3.468 | 8 | 0.2413793 | 1 | ⋯ | 0 | 0.2344771 | 0 | 0.1413399 | 0.01143791 | 1.135074 | 112.6667 | NA | NA | NA |\n",
       "| ⋮ | ⋮ | ⋮ | ⋮ | ⋮ | ⋮ | ⋮ | ⋮ | ⋮ | ⋮ | ⋱ | ⋮ | ⋮ | ⋮ | ⋮ | ⋮ | ⋮ | ⋮ | ⋮ | ⋮ | ⋮ |\n",
       "| Padang | 2 | 2 | 04/3/2005 | Pomacentridae | 3-10cm  |   25.920 | 135 | 0.1964286 | 0.4 | ⋯ | 0.08370703 | 0 | 0.09192825 | 0.08221226 | 0.004484304 | 1.212121 | 11.7 | NA | NA | NA |\n",
       "| Padang | 2 | 2 | 04/3/2005 | Pomacentridae | 10-20cm |   25.240 |  20 | 0.1964286 | 0.4 | ⋯ | 0.08370703 | 0 | 0.09192825 | 0.08221226 | 0.004484304 | 1.212121 | 11.7 | NA | NA | NA |\n",
       "| Padang | 2 | 2 | 04/3/2005 | Pomacentridae | 20-30cm |    0.000 |   0 | 0.1964286 | 0.4 | ⋯ | 0.08370703 | 0 | 0.09192825 | 0.08221226 | 0.004484304 | 1.212121 | 11.7 | NA | NA | NA |\n",
       "| Padang | 2 | 2 | 04/3/2005 | Pomacentridae | 30-40cm |    0.000 |   0 | 0.1964286 | 0.4 | ⋯ | 0.08370703 | 0 | 0.09192825 | 0.08221226 | 0.004484304 | 1.212121 | 11.7 | NA | NA | NA |\n",
       "| Padang | 2 | 2 | 04/3/2005 | Pomacentridae | &gt;40cm   |    0.000 |   0 | 0.1964286 | 0.4 | ⋯ | 0.08370703 | 0 | 0.09192825 | 0.08221226 | 0.004484304 | 1.212121 | 11.7 | NA | NA | NA |\n",
       "| Padang | 2 | 2 | 04/3/2005 | Pomacentridae | Total   |   51.160 | 155 | 0.1964286 | 0.4 | ⋯ | 0.08370703 | 0 | 0.09192825 | 0.08221226 | 0.004484304 | 1.212121 | 11.7 | NA | NA | NA |\n",
       "| Padang | 2 | 2 | 04/3/2005 | Scaridae      | 3-10cm  |    6.030 |  45 | 0.1964286 | 0.4 | ⋯ | 0.08370703 | 0 | 0.09192825 | 0.08221226 | 0.004484304 | 1.212121 | 11.7 | NA | NA | NA |\n",
       "| Padang | 2 | 2 | 04/3/2005 | Scaridae      | 10-20cm |    3.294 |   3 | 0.1964286 | 0.4 | ⋯ | 0.08370703 | 0 | 0.09192825 | 0.08221226 | 0.004484304 | 1.212121 | 11.7 | NA | NA | NA |\n",
       "| Padang | 2 | 2 | 04/3/2005 | Scaridae      | 20-30cm |   98.078 |  19 | 0.1964286 | 0.4 | ⋯ | 0.08370703 | 0 | 0.09192825 | 0.08221226 | 0.004484304 | 1.212121 | 11.7 | NA | NA | NA |\n",
       "| Padang | 2 | 2 | 04/3/2005 | Scaridae      | 30-40cm |   85.860 |   6 | 0.1964286 | 0.4 | ⋯ | 0.08370703 | 0 | 0.09192825 | 0.08221226 | 0.004484304 | 1.212121 | 11.7 | NA | NA | NA |\n",
       "| Padang | 2 | 2 | 04/3/2005 | Scaridae      | &gt;40cm   |  153.220 |   5 | 0.1964286 | 0.4 | ⋯ | 0.08370703 | 0 | 0.09192825 | 0.08221226 | 0.004484304 | 1.212121 | 11.7 | NA | NA | NA |\n",
       "| Padang | 2 | 2 | 04/3/2005 | Scaridae      | Total   |  346.000 |  78 | 0.1964286 | 0.4 | ⋯ | 0.08370703 | 0 | 0.09192825 | 0.08221226 | 0.004484304 | 1.212121 | 11.7 | NA | NA | NA |\n",
       "| Padang | 2 | 2 | 04/3/2005 | Siganidae     | 3-10cm  |    0.000 |   0 | 0.1964286 | 0.4 | ⋯ | 0.08370703 | 0 | 0.09192825 | 0.08221226 | 0.004484304 | 1.212121 | 11.7 | NA | NA | NA |\n",
       "| Padang | 2 | 2 | 04/3/2005 | Siganidae     | 10-20cm |    0.000 |   0 | 0.1964286 | 0.4 | ⋯ | 0.08370703 | 0 | 0.09192825 | 0.08221226 | 0.004484304 | 1.212121 | 11.7 | NA | NA | NA |\n",
       "| Padang | 2 | 2 | 04/3/2005 | Siganidae     | 20-30cm |   12.560 |   2 | 0.1964286 | 0.4 | ⋯ | 0.08370703 | 0 | 0.09192825 | 0.08221226 | 0.004484304 | 1.212121 | 11.7 | NA | NA | NA |\n",
       "| Padang | 2 | 2 | 04/3/2005 | Siganidae     | 30-40cm |    0.000 |   0 | 0.1964286 | 0.4 | ⋯ | 0.08370703 | 0 | 0.09192825 | 0.08221226 | 0.004484304 | 1.212121 | 11.7 | NA | NA | NA |\n",
       "| Padang | 2 | 2 | 04/3/2005 | Siganidae     | &gt;40cm   |    0.000 |   0 | 0.1964286 | 0.4 | ⋯ | 0.08370703 | 0 | 0.09192825 | 0.08221226 | 0.004484304 | 1.212121 | 11.7 | NA | NA | NA |\n",
       "| Padang | 2 | 2 | 04/3/2005 | Siganidae     | Total   |   12.560 |   2 | 0.1964286 | 0.4 | ⋯ | 0.08370703 | 0 | 0.09192825 | 0.08221226 | 0.004484304 | 1.212121 | 11.7 | NA | NA | NA |\n",
       "| Padang | 2 | 2 | 04/3/2005 | Others        | 3-10cm  |    1.260 |   3 | 0.1964286 | 0.4 | ⋯ | 0.08370703 | 0 | 0.09192825 | 0.08221226 | 0.004484304 | 1.212121 | 11.7 | NA | NA | NA |\n",
       "| Padang | 2 | 2 | 04/3/2005 | Others        | 10-20cm |   67.160 |  23 | 0.1964286 | 0.4 | ⋯ | 0.08370703 | 0 | 0.09192825 | 0.08221226 | 0.004484304 | 1.212121 | 11.7 | NA | NA | NA |\n",
       "| Padang | 2 | 2 | 04/3/2005 | Others        | 20-30cm |   97.424 |   8 | 0.1964286 | 0.4 | ⋯ | 0.08370703 | 0 | 0.09192825 | 0.08221226 | 0.004484304 | 1.212121 | 11.7 | NA | NA | NA |\n",
       "| Padang | 2 | 2 | 04/3/2005 | Others        | 30-40cm |   93.600 |   3 | 0.1964286 | 0.4 | ⋯ | 0.08370703 | 0 | 0.09192825 | 0.08221226 | 0.004484304 | 1.212121 | 11.7 | NA | NA | NA |\n",
       "| Padang | 2 | 2 | 04/3/2005 | Others        | &gt;40cm   |    0.000 |   0 | 0.1964286 | 0.4 | ⋯ | 0.08370703 | 0 | 0.09192825 | 0.08221226 | 0.004484304 | 1.212121 | 11.7 | NA | NA | NA |\n",
       "| Padang | 2 | 2 | 04/3/2005 | Others        | Total   |  259.444 |  37 | 0.1964286 | 0.4 | ⋯ | 0.08370703 | 0 | 0.09192825 | 0.08221226 | 0.004484304 | 1.212121 | 11.7 | NA | NA | NA |\n",
       "| Padang | 2 | 2 | 04/3/2005 | All_groups    | 3-10cm  |   51.878 | 277 | 0.1964286 | 0.4 | ⋯ | 0.08370703 | 0 | 0.09192825 | 0.08221226 | 0.004484304 | 1.212121 | 11.7 | NA | NA | NA |\n",
       "| Padang | 2 | 2 | 04/3/2005 | All_groups    | 10-20cm |  179.560 |  94 | 0.1964286 | 0.4 | ⋯ | 0.08370703 | 0 | 0.09192825 | 0.08221226 | 0.004484304 | 1.212121 | 11.7 | NA | NA | NA |\n",
       "| Padang | 2 | 2 | 04/3/2005 | All_groups    | 20-30cm |  326.394 |  46 | 0.1964286 | 0.4 | ⋯ | 0.08370703 | 0 | 0.09192825 | 0.08221226 | 0.004484304 | 1.212121 | 11.7 | NA | NA | NA |\n",
       "| Padang | 2 | 2 | 04/3/2005 | All_groups    | 30-40cm |  432.034 |  27 | 0.1964286 | 0.4 | ⋯ | 0.08370703 | 0 | 0.09192825 | 0.08221226 | 0.004484304 | 1.212121 | 11.7 | NA | NA | NA |\n",
       "| Padang | 2 | 2 | 04/3/2005 | All_groups    | &gt;40cm   |  405.222 |  15 | 0.1964286 | 0.4 | ⋯ | 0.08370703 | 0 | 0.09192825 | 0.08221226 | 0.004484304 | 1.212121 | 11.7 | NA | NA | NA |\n",
       "| Padang | 2 | 2 | 04/3/2005 | All_groups    | Total   | 1395.092 | 459 | 0.1964286 | 0.4 | ⋯ | 0.08370703 | 0 | 0.09192825 | 0.08221226 | 0.004484304 | 1.212121 | 11.7 | NA | NA | NA |\n",
       "\n"
      ],
      "text/plain": [
       "    Location Site Transect Date      Family_group   Size_class Biomass \n",
       "1   Nias     1    1        18/2/2005 Acanthuridae   3-10cm     0.000   \n",
       "2   Nias     1    1        18/2/2005 Acanthuridae   10-20cm    0.000   \n",
       "3   Nias     1    1        18/2/2005 Acanthuridae   20-30cm    0.000   \n",
       "4   Nias     1    1        18/2/2005 Acanthuridae   30-40cm    0.000   \n",
       "5   Nias     1    1        18/2/2005 Acanthuridae   >40cm      0.000   \n",
       "6   Nias     1    1        18/2/2005 Acanthuridae   Total      0.000   \n",
       "7   Nias     1    1        18/2/2005 Balistidae     3-10cm     0.000   \n",
       "8   Nias     1    1        18/2/2005 Balistidae     10-20cm    0.000   \n",
       "9   Nias     1    1        18/2/2005 Balistidae     20-30cm    0.000   \n",
       "10  Nias     1    1        18/2/2005 Balistidae     30-40cm    0.000   \n",
       "11  Nias     1    1        18/2/2005 Balistidae     >40cm      0.000   \n",
       "12  Nias     1    1        18/2/2005 Balistidae     Total      0.000   \n",
       "13  Nias     1    1        18/2/2005 Chaetodontidae 3-10cm     0.448   \n",
       "14  Nias     1    1        18/2/2005 Chaetodontidae 10-20cm    1.780   \n",
       "15  Nias     1    1        18/2/2005 Chaetodontidae 20-30cm    0.000   \n",
       "16  Nias     1    1        18/2/2005 Chaetodontidae 30-40cm    0.000   \n",
       "17  Nias     1    1        18/2/2005 Chaetodontidae >40cm      0.000   \n",
       "18  Nias     1    1        18/2/2005 Chaetodontidae Total      2.228   \n",
       "19  Nias     1    1        18/2/2005 Diodontidae    3-10cm     0.000   \n",
       "20  Nias     1    1        18/2/2005 Diodontidae    10-20cm    0.000   \n",
       "21  Nias     1    1        18/2/2005 Diodontidae    20-30cm    0.000   \n",
       "22  Nias     1    1        18/2/2005 Diodontidae    30-40cm    0.000   \n",
       "23  Nias     1    1        18/2/2005 Diodontidae    >40cm      0.000   \n",
       "24  Nias     1    1        18/2/2005 Diodontidae    Total      0.000   \n",
       "25  Nias     1    1        18/2/2005 Labridae       3-10cm     1.164   \n",
       "26  Nias     1    1        18/2/2005 Labridae       10-20cm    2.304   \n",
       "27  Nias     1    1        18/2/2005 Labridae       20-30cm    0.000   \n",
       "28  Nias     1    1        18/2/2005 Labridae       30-40cm    0.000   \n",
       "29  Nias     1    1        18/2/2005 Labridae       >40cm      0.000   \n",
       "30  Nias     1    1        18/2/2005 Labridae       Total      3.468   \n",
       "⋮   ⋮        ⋮    ⋮        ⋮         ⋮              ⋮          ⋮       \n",
       "595 Padang   2    2        04/3/2005 Pomacentridae  3-10cm       25.920\n",
       "596 Padang   2    2        04/3/2005 Pomacentridae  10-20cm      25.240\n",
       "597 Padang   2    2        04/3/2005 Pomacentridae  20-30cm       0.000\n",
       "598 Padang   2    2        04/3/2005 Pomacentridae  30-40cm       0.000\n",
       "599 Padang   2    2        04/3/2005 Pomacentridae  >40cm         0.000\n",
       "600 Padang   2    2        04/3/2005 Pomacentridae  Total        51.160\n",
       "601 Padang   2    2        04/3/2005 Scaridae       3-10cm        6.030\n",
       "602 Padang   2    2        04/3/2005 Scaridae       10-20cm       3.294\n",
       "603 Padang   2    2        04/3/2005 Scaridae       20-30cm      98.078\n",
       "604 Padang   2    2        04/3/2005 Scaridae       30-40cm      85.860\n",
       "605 Padang   2    2        04/3/2005 Scaridae       >40cm       153.220\n",
       "606 Padang   2    2        04/3/2005 Scaridae       Total       346.000\n",
       "607 Padang   2    2        04/3/2005 Siganidae      3-10cm        0.000\n",
       "608 Padang   2    2        04/3/2005 Siganidae      10-20cm       0.000\n",
       "609 Padang   2    2        04/3/2005 Siganidae      20-30cm      12.560\n",
       "610 Padang   2    2        04/3/2005 Siganidae      30-40cm       0.000\n",
       "611 Padang   2    2        04/3/2005 Siganidae      >40cm         0.000\n",
       "612 Padang   2    2        04/3/2005 Siganidae      Total        12.560\n",
       "613 Padang   2    2        04/3/2005 Others         3-10cm        1.260\n",
       "614 Padang   2    2        04/3/2005 Others         10-20cm      67.160\n",
       "615 Padang   2    2        04/3/2005 Others         20-30cm      97.424\n",
       "616 Padang   2    2        04/3/2005 Others         30-40cm      93.600\n",
       "617 Padang   2    2        04/3/2005 Others         >40cm         0.000\n",
       "618 Padang   2    2        04/3/2005 Others         Total       259.444\n",
       "619 Padang   2    2        04/3/2005 All_groups     3-10cm       51.878\n",
       "620 Padang   2    2        04/3/2005 All_groups     10-20cm     179.560\n",
       "621 Padang   2    2        04/3/2005 All_groups     20-30cm     326.394\n",
       "622 Padang   2    2        04/3/2005 All_groups     30-40cm     432.034\n",
       "623 Padang   2    2        04/3/2005 All_groups     >40cm       405.222\n",
       "624 Padang   2    2        04/3/2005 All_groups     Total      1395.092\n",
       "    Abundance Avg_herbivory Avg_predation ⋯ Coralline  Seagrass  Soft_coral\n",
       "1   0         0.2413793     1             ⋯ 0          0.2344771 0         \n",
       "2   0         0.2413793     1             ⋯ 0          0.2344771 0         \n",
       "3   0         0.2413793     1             ⋯ 0          0.2344771 0         \n",
       "4   0         0.2413793     1             ⋯ 0          0.2344771 0         \n",
       "5   0         0.2413793     1             ⋯ 0          0.2344771 0         \n",
       "6   0         0.2413793     1             ⋯ 0          0.2344771 0         \n",
       "7   0         0.2413793     1             ⋯ 0          0.2344771 0         \n",
       "8   0         0.2413793     1             ⋯ 0          0.2344771 0         \n",
       "9   0         0.2413793     1             ⋯ 0          0.2344771 0         \n",
       "10  0         0.2413793     1             ⋯ 0          0.2344771 0         \n",
       "11  0         0.2413793     1             ⋯ 0          0.2344771 0         \n",
       "12  0         0.2413793     1             ⋯ 0          0.2344771 0         \n",
       "13  2         0.2413793     1             ⋯ 0          0.2344771 0         \n",
       "14  1         0.2413793     1             ⋯ 0          0.2344771 0         \n",
       "15  0         0.2413793     1             ⋯ 0          0.2344771 0         \n",
       "16  0         0.2413793     1             ⋯ 0          0.2344771 0         \n",
       "17  0         0.2413793     1             ⋯ 0          0.2344771 0         \n",
       "18  3         0.2413793     1             ⋯ 0          0.2344771 0         \n",
       "19  0         0.2413793     1             ⋯ 0          0.2344771 0         \n",
       "20  0         0.2413793     1             ⋯ 0          0.2344771 0         \n",
       "21  0         0.2413793     1             ⋯ 0          0.2344771 0         \n",
       "22  0         0.2413793     1             ⋯ 0          0.2344771 0         \n",
       "23  0         0.2413793     1             ⋯ 0          0.2344771 0         \n",
       "24  0         0.2413793     1             ⋯ 0          0.2344771 0         \n",
       "25  6         0.2413793     1             ⋯ 0          0.2344771 0         \n",
       "26  2         0.2413793     1             ⋯ 0          0.2344771 0         \n",
       "27  0         0.2413793     1             ⋯ 0          0.2344771 0         \n",
       "28  0         0.2413793     1             ⋯ 0          0.2344771 0         \n",
       "29  0         0.2413793     1             ⋯ 0          0.2344771 0         \n",
       "30  8         0.2413793     1             ⋯ 0          0.2344771 0         \n",
       "⋮   ⋮         ⋮             ⋮             ⋱ ⋮          ⋮         ⋮         \n",
       "595 135       0.1964286     0.4           ⋯ 0.08370703 0         0.09192825\n",
       "596  20       0.1964286     0.4           ⋯ 0.08370703 0         0.09192825\n",
       "597   0       0.1964286     0.4           ⋯ 0.08370703 0         0.09192825\n",
       "598   0       0.1964286     0.4           ⋯ 0.08370703 0         0.09192825\n",
       "599   0       0.1964286     0.4           ⋯ 0.08370703 0         0.09192825\n",
       "600 155       0.1964286     0.4           ⋯ 0.08370703 0         0.09192825\n",
       "601  45       0.1964286     0.4           ⋯ 0.08370703 0         0.09192825\n",
       "602   3       0.1964286     0.4           ⋯ 0.08370703 0         0.09192825\n",
       "603  19       0.1964286     0.4           ⋯ 0.08370703 0         0.09192825\n",
       "604   6       0.1964286     0.4           ⋯ 0.08370703 0         0.09192825\n",
       "605   5       0.1964286     0.4           ⋯ 0.08370703 0         0.09192825\n",
       "606  78       0.1964286     0.4           ⋯ 0.08370703 0         0.09192825\n",
       "607   0       0.1964286     0.4           ⋯ 0.08370703 0         0.09192825\n",
       "608   0       0.1964286     0.4           ⋯ 0.08370703 0         0.09192825\n",
       "609   2       0.1964286     0.4           ⋯ 0.08370703 0         0.09192825\n",
       "610   0       0.1964286     0.4           ⋯ 0.08370703 0         0.09192825\n",
       "611   0       0.1964286     0.4           ⋯ 0.08370703 0         0.09192825\n",
       "612   2       0.1964286     0.4           ⋯ 0.08370703 0         0.09192825\n",
       "613   3       0.1964286     0.4           ⋯ 0.08370703 0         0.09192825\n",
       "614  23       0.1964286     0.4           ⋯ 0.08370703 0         0.09192825\n",
       "615   8       0.1964286     0.4           ⋯ 0.08370703 0         0.09192825\n",
       "616   3       0.1964286     0.4           ⋯ 0.08370703 0         0.09192825\n",
       "617   0       0.1964286     0.4           ⋯ 0.08370703 0         0.09192825\n",
       "618  37       0.1964286     0.4           ⋯ 0.08370703 0         0.09192825\n",
       "619 277       0.1964286     0.4           ⋯ 0.08370703 0         0.09192825\n",
       "620  94       0.1964286     0.4           ⋯ 0.08370703 0         0.09192825\n",
       "621  46       0.1964286     0.4           ⋯ 0.08370703 0         0.09192825\n",
       "622  27       0.1964286     0.4           ⋯ 0.08370703 0         0.09192825\n",
       "623  15       0.1964286     0.4           ⋯ 0.08370703 0         0.09192825\n",
       "624 459       0.1964286     0.4           ⋯ 0.08370703 0         0.09192825\n",
       "    Sand       Sponge      Rugosity Urchins  X  X.1 X.2\n",
       "1   0.1413399  0.01143791  1.135074 112.6667 NA NA  NA \n",
       "2   0.1413399  0.01143791  1.135074 112.6667 NA NA  NA \n",
       "3   0.1413399  0.01143791  1.135074 112.6667 NA NA  NA \n",
       "4   0.1413399  0.01143791  1.135074 112.6667 NA NA  NA \n",
       "5   0.1413399  0.01143791  1.135074 112.6667 NA NA  NA \n",
       "6   0.1413399  0.01143791  1.135074 112.6667 NA NA  NA \n",
       "7   0.1413399  0.01143791  1.135074 112.6667 NA NA  NA \n",
       "8   0.1413399  0.01143791  1.135074 112.6667 NA NA  NA \n",
       "9   0.1413399  0.01143791  1.135074 112.6667 NA NA  NA \n",
       "10  0.1413399  0.01143791  1.135074 112.6667 NA NA  NA \n",
       "11  0.1413399  0.01143791  1.135074 112.6667 NA NA  NA \n",
       "12  0.1413399  0.01143791  1.135074 112.6667 NA NA  NA \n",
       "13  0.1413399  0.01143791  1.135074 112.6667 NA NA  NA \n",
       "14  0.1413399  0.01143791  1.135074 112.6667 NA NA  NA \n",
       "15  0.1413399  0.01143791  1.135074 112.6667 NA NA  NA \n",
       "16  0.1413399  0.01143791  1.135074 112.6667 NA NA  NA \n",
       "17  0.1413399  0.01143791  1.135074 112.6667 NA NA  NA \n",
       "18  0.1413399  0.01143791  1.135074 112.6667 NA NA  NA \n",
       "19  0.1413399  0.01143791  1.135074 112.6667 NA NA  NA \n",
       "20  0.1413399  0.01143791  1.135074 112.6667 NA NA  NA \n",
       "21  0.1413399  0.01143791  1.135074 112.6667 NA NA  NA \n",
       "22  0.1413399  0.01143791  1.135074 112.6667 NA NA  NA \n",
       "23  0.1413399  0.01143791  1.135074 112.6667 NA NA  NA \n",
       "24  0.1413399  0.01143791  1.135074 112.6667 NA NA  NA \n",
       "25  0.1413399  0.01143791  1.135074 112.6667 NA NA  NA \n",
       "26  0.1413399  0.01143791  1.135074 112.6667 NA NA  NA \n",
       "27  0.1413399  0.01143791  1.135074 112.6667 NA NA  NA \n",
       "28  0.1413399  0.01143791  1.135074 112.6667 NA NA  NA \n",
       "29  0.1413399  0.01143791  1.135074 112.6667 NA NA  NA \n",
       "30  0.1413399  0.01143791  1.135074 112.6667 NA NA  NA \n",
       "⋮   ⋮          ⋮           ⋮        ⋮        ⋮  ⋮   ⋮  \n",
       "595 0.08221226 0.004484304 1.212121 11.7     NA NA  NA \n",
       "596 0.08221226 0.004484304 1.212121 11.7     NA NA  NA \n",
       "597 0.08221226 0.004484304 1.212121 11.7     NA NA  NA \n",
       "598 0.08221226 0.004484304 1.212121 11.7     NA NA  NA \n",
       "599 0.08221226 0.004484304 1.212121 11.7     NA NA  NA \n",
       "600 0.08221226 0.004484304 1.212121 11.7     NA NA  NA \n",
       "601 0.08221226 0.004484304 1.212121 11.7     NA NA  NA \n",
       "602 0.08221226 0.004484304 1.212121 11.7     NA NA  NA \n",
       "603 0.08221226 0.004484304 1.212121 11.7     NA NA  NA \n",
       "604 0.08221226 0.004484304 1.212121 11.7     NA NA  NA \n",
       "605 0.08221226 0.004484304 1.212121 11.7     NA NA  NA \n",
       "606 0.08221226 0.004484304 1.212121 11.7     NA NA  NA \n",
       "607 0.08221226 0.004484304 1.212121 11.7     NA NA  NA \n",
       "608 0.08221226 0.004484304 1.212121 11.7     NA NA  NA \n",
       "609 0.08221226 0.004484304 1.212121 11.7     NA NA  NA \n",
       "610 0.08221226 0.004484304 1.212121 11.7     NA NA  NA \n",
       "611 0.08221226 0.004484304 1.212121 11.7     NA NA  NA \n",
       "612 0.08221226 0.004484304 1.212121 11.7     NA NA  NA \n",
       "613 0.08221226 0.004484304 1.212121 11.7     NA NA  NA \n",
       "614 0.08221226 0.004484304 1.212121 11.7     NA NA  NA \n",
       "615 0.08221226 0.004484304 1.212121 11.7     NA NA  NA \n",
       "616 0.08221226 0.004484304 1.212121 11.7     NA NA  NA \n",
       "617 0.08221226 0.004484304 1.212121 11.7     NA NA  NA \n",
       "618 0.08221226 0.004484304 1.212121 11.7     NA NA  NA \n",
       "619 0.08221226 0.004484304 1.212121 11.7     NA NA  NA \n",
       "620 0.08221226 0.004484304 1.212121 11.7     NA NA  NA \n",
       "621 0.08221226 0.004484304 1.212121 11.7     NA NA  NA \n",
       "622 0.08221226 0.004484304 1.212121 11.7     NA NA  NA \n",
       "623 0.08221226 0.004484304 1.212121 11.7     NA NA  NA \n",
       "624 0.08221226 0.004484304 1.212121 11.7     NA NA  NA "
      ]
     },
     "metadata": {},
     "output_type": "display_data"
    }
   ],
   "source": [
    "data = read.csv(\"Hell_B00727991.csv\")\n",
    "data"
   ]
  },
  {
   "cell_type": "code",
   "execution_count": 188,
   "metadata": {},
   "outputs": [],
   "source": [
    "Q11 = select(data, Hard_coral, Turf, Calcareous, Fleshy_algae, Coralline, Seagrass, Soft_coral, Sand, Sponge)\n",
    "\n"
   ]
  },
  {
   "cell_type": "code",
   "execution_count": 101,
   "metadata": {},
   "outputs": [],
   "source": [
    "?colnames"
   ]
  },
  {
   "cell_type": "code",
   "execution_count": null,
   "metadata": {
    "collapsed": true
   },
   "outputs": [],
   "source": []
  },
  {
   "cell_type": "code",
   "execution_count": 70,
   "metadata": {
    "scrolled": true
   },
   "outputs": [
    {
     "data": {
      "text/html": [
       "<table>\n",
       "<caption>A matrix: 9 × 8 of type dbl</caption>\n",
       "<tbody>\n",
       "\t<tr><th scope=row>Hard_coral</th><td>0.25653595</td><td>0.2608</td><td>0.170771757</td><td>0.255283178</td><td>0.494382022</td><td>0.392394122</td><td>0.124432334</td><td>0.331091180</td></tr>\n",
       "\t<tr><th scope=row>Turf</th><td>0.35620915</td><td>0.3280</td><td>0.373563218</td><td>0.289940828</td><td>0.235018726</td><td>0.220397579</td><td>0.446866485</td><td>0.282511210</td></tr>\n",
       "\t<tr><th scope=row>Calcareous</th><td>0.00000000</td><td>0.0072</td><td>0.000000000</td><td>0.000000000</td><td>0.011235955</td><td>0.000000000</td><td>0.014532243</td><td>0.000000000</td></tr>\n",
       "\t<tr><th scope=row>Fleshy_algae</th><td>0.00000000</td><td>0.0000</td><td>0.293924466</td><td>0.212172442</td><td>0.007490636</td><td>0.126188418</td><td>0.118982743</td><td>0.124065769</td></tr>\n",
       "\t<tr><th scope=row>Coralline</th><td>0.00000000</td><td>0.0040</td><td>0.109195402</td><td>0.075232459</td><td>0.060861423</td><td>0.120138288</td><td>0.080835604</td><td>0.083707025</td></tr>\n",
       "\t<tr><th scope=row>Seagrass</th><td>0.23447712</td><td>0.0656</td><td>0.000000000</td><td>0.098901098</td><td>0.000000000</td><td>0.114088159</td><td>0.000000000</td><td>0.000000000</td></tr>\n",
       "\t<tr><th scope=row>Soft_coral</th><td>0.00000000</td><td>0.0000</td><td>0.004926108</td><td>0.005917159</td><td>0.029962546</td><td>0.018150388</td><td>0.044504995</td><td>0.091928251</td></tr>\n",
       "\t<tr><th scope=row>Sand</th><td>0.14133987</td><td>0.3280</td><td>0.047619047</td><td>0.055790363</td><td>0.127340824</td><td>0.000000000</td><td>0.162579473</td><td>0.082212257</td></tr>\n",
       "\t<tr><th scope=row>Sponge</th><td>0.01143791</td><td>0.0064</td><td>0.000000000</td><td>0.006762468</td><td>0.033707865</td><td>0.008643042</td><td>0.007266121</td><td>0.004484304</td></tr>\n",
       "</tbody>\n",
       "</table>\n"
      ],
      "text/latex": [
       "A matrix: 9 × 8 of type dbl\n",
       "\\begin{tabular}{r|llllllll}\n",
       "\tHard\\_coral & 0.25653595 & 0.2608 & 0.170771757 & 0.255283178 & 0.494382022 & 0.392394122 & 0.124432334 & 0.331091180\\\\\n",
       "\tTurf & 0.35620915 & 0.3280 & 0.373563218 & 0.289940828 & 0.235018726 & 0.220397579 & 0.446866485 & 0.282511210\\\\\n",
       "\tCalcareous & 0.00000000 & 0.0072 & 0.000000000 & 0.000000000 & 0.011235955 & 0.000000000 & 0.014532243 & 0.000000000\\\\\n",
       "\tFleshy\\_algae & 0.00000000 & 0.0000 & 0.293924466 & 0.212172442 & 0.007490636 & 0.126188418 & 0.118982743 & 0.124065769\\\\\n",
       "\tCoralline & 0.00000000 & 0.0040 & 0.109195402 & 0.075232459 & 0.060861423 & 0.120138288 & 0.080835604 & 0.083707025\\\\\n",
       "\tSeagrass & 0.23447712 & 0.0656 & 0.000000000 & 0.098901098 & 0.000000000 & 0.114088159 & 0.000000000 & 0.000000000\\\\\n",
       "\tSoft\\_coral & 0.00000000 & 0.0000 & 0.004926108 & 0.005917159 & 0.029962546 & 0.018150388 & 0.044504995 & 0.091928251\\\\\n",
       "\tSand & 0.14133987 & 0.3280 & 0.047619047 & 0.055790363 & 0.127340824 & 0.000000000 & 0.162579473 & 0.082212257\\\\\n",
       "\tSponge & 0.01143791 & 0.0064 & 0.000000000 & 0.006762468 & 0.033707865 & 0.008643042 & 0.007266121 & 0.004484304\\\\\n",
       "\\end{tabular}\n"
      ],
      "text/markdown": [
       "\n",
       "A matrix: 9 × 8 of type dbl\n",
       "\n",
       "| Hard_coral | 0.25653595 | 0.2608 | 0.170771757 | 0.255283178 | 0.494382022 | 0.392394122 | 0.124432334 | 0.331091180 |\n",
       "| Turf | 0.35620915 | 0.3280 | 0.373563218 | 0.289940828 | 0.235018726 | 0.220397579 | 0.446866485 | 0.282511210 |\n",
       "| Calcareous | 0.00000000 | 0.0072 | 0.000000000 | 0.000000000 | 0.011235955 | 0.000000000 | 0.014532243 | 0.000000000 |\n",
       "| Fleshy_algae | 0.00000000 | 0.0000 | 0.293924466 | 0.212172442 | 0.007490636 | 0.126188418 | 0.118982743 | 0.124065769 |\n",
       "| Coralline | 0.00000000 | 0.0040 | 0.109195402 | 0.075232459 | 0.060861423 | 0.120138288 | 0.080835604 | 0.083707025 |\n",
       "| Seagrass | 0.23447712 | 0.0656 | 0.000000000 | 0.098901098 | 0.000000000 | 0.114088159 | 0.000000000 | 0.000000000 |\n",
       "| Soft_coral | 0.00000000 | 0.0000 | 0.004926108 | 0.005917159 | 0.029962546 | 0.018150388 | 0.044504995 | 0.091928251 |\n",
       "| Sand | 0.14133987 | 0.3280 | 0.047619047 | 0.055790363 | 0.127340824 | 0.000000000 | 0.162579473 | 0.082212257 |\n",
       "| Sponge | 0.01143791 | 0.0064 | 0.000000000 | 0.006762468 | 0.033707865 | 0.008643042 | 0.007266121 | 0.004484304 |\n",
       "\n"
      ],
      "text/plain": [
       "             [,1]       [,2]   [,3]        [,4]        [,5]        [,6]       \n",
       "Hard_coral   0.25653595 0.2608 0.170771757 0.255283178 0.494382022 0.392394122\n",
       "Turf         0.35620915 0.3280 0.373563218 0.289940828 0.235018726 0.220397579\n",
       "Calcareous   0.00000000 0.0072 0.000000000 0.000000000 0.011235955 0.000000000\n",
       "Fleshy_algae 0.00000000 0.0000 0.293924466 0.212172442 0.007490636 0.126188418\n",
       "Coralline    0.00000000 0.0040 0.109195402 0.075232459 0.060861423 0.120138288\n",
       "Seagrass     0.23447712 0.0656 0.000000000 0.098901098 0.000000000 0.114088159\n",
       "Soft_coral   0.00000000 0.0000 0.004926108 0.005917159 0.029962546 0.018150388\n",
       "Sand         0.14133987 0.3280 0.047619047 0.055790363 0.127340824 0.000000000\n",
       "Sponge       0.01143791 0.0064 0.000000000 0.006762468 0.033707865 0.008643042\n",
       "             [,7]        [,8]       \n",
       "Hard_coral   0.124432334 0.331091180\n",
       "Turf         0.446866485 0.282511210\n",
       "Calcareous   0.014532243 0.000000000\n",
       "Fleshy_algae 0.118982743 0.124065769\n",
       "Coralline    0.080835604 0.083707025\n",
       "Seagrass     0.000000000 0.000000000\n",
       "Soft_coral   0.044504995 0.091928251\n",
       "Sand         0.162579473 0.082212257\n",
       "Sponge       0.007266121 0.004484304"
      ]
     },
     "metadata": {},
     "output_type": "display_data"
    }
   ],
   "source": [
    "Q12 = data.matrix(Q11)\n",
    "Q13 = unique(Q12)\n",
    "Q14 = t(Q13)\n",
    "Q14"
   ]
  },
  {
   "cell_type": "code",
   "execution_count": 104,
   "metadata": {},
   "outputs": [
    {
     "data": {
      "text/html": [
       "<ol class=list-inline>\n",
       "\t<li>N_s1_t1</li>\n",
       "\t<li>N_s1_t2</li>\n",
       "\t<li>N_s2_t1</li>\n",
       "\t<li>N_s2_t2</li>\n",
       "\t<li>P_s1_t1</li>\n",
       "\t<li>P_s1_t2</li>\n",
       "\t<li>P_s2_t1</li>\n",
       "\t<li>P_s2_t2</li>\n",
       "</ol>\n",
       "\n",
       "<details>\n",
       "\t<summary style=display:list-item;cursor:pointer>\n",
       "\t\t<strong>Levels</strong>:\n",
       "\t</summary>\n",
       "\t<ol class=list-inline>\n",
       "\t\t<li>'N_s1_t1'</li>\n",
       "\t\t<li>'N_s1_t2'</li>\n",
       "\t\t<li>'N_s2_t1'</li>\n",
       "\t\t<li>'N_s2_t2'</li>\n",
       "\t\t<li>'P_s1_t1'</li>\n",
       "\t\t<li>'P_s1_t2'</li>\n",
       "\t\t<li>'P_s2_t1'</li>\n",
       "\t\t<li>'P_s2_t2'</li>\n",
       "\t</ol>\n",
       "</details>"
      ],
      "text/latex": [
       "\\begin{enumerate*}\n",
       "\\item N\\_s1\\_t1\n",
       "\\item N\\_s1\\_t2\n",
       "\\item N\\_s2\\_t1\n",
       "\\item N\\_s2\\_t2\n",
       "\\item P\\_s1\\_t1\n",
       "\\item P\\_s1\\_t2\n",
       "\\item P\\_s2\\_t1\n",
       "\\item P\\_s2\\_t2\n",
       "\\end{enumerate*}\n",
       "\n",
       "\\emph{Levels}: \\begin{enumerate*}\n",
       "\\item 'N\\_s1\\_t1'\n",
       "\\item 'N\\_s1\\_t2'\n",
       "\\item 'N\\_s2\\_t1'\n",
       "\\item 'N\\_s2\\_t2'\n",
       "\\item 'P\\_s1\\_t1'\n",
       "\\item 'P\\_s1\\_t2'\n",
       "\\item 'P\\_s2\\_t1'\n",
       "\\item 'P\\_s2\\_t2'\n",
       "\\end{enumerate*}\n"
      ],
      "text/markdown": [
       "1. N_s1_t1\n",
       "2. N_s1_t2\n",
       "3. N_s2_t1\n",
       "4. N_s2_t2\n",
       "5. P_s1_t1\n",
       "6. P_s1_t2\n",
       "7. P_s2_t1\n",
       "8. P_s2_t2\n",
       "\n",
       "\n",
       "\n",
       "**Levels**: 1. 'N_s1_t1'\n",
       "2. 'N_s1_t2'\n",
       "3. 'N_s2_t1'\n",
       "4. 'N_s2_t2'\n",
       "5. 'P_s1_t1'\n",
       "6. 'P_s1_t2'\n",
       "7. 'P_s2_t1'\n",
       "8. 'P_s2_t2'\n",
       "\n",
       "\n"
      ],
      "text/plain": [
       "[1] N_s1_t1 N_s1_t2 N_s2_t1 N_s2_t2 P_s1_t1 P_s1_t2 P_s2_t1 P_s2_t2\n",
       "Levels: N_s1_t1 N_s1_t2 N_s2_t1 N_s2_t2 P_s1_t1 P_s1_t2 P_s2_t1 P_s2_t2"
      ]
     },
     "metadata": {},
     "output_type": "display_data"
    }
   ],
   "source": [
    " x = factor(c(\"N_s1_t1\",\"N_s1_t2\",\"N_s2_t1\",\"N_s2_t2\",\"P_s1_t1\",\"P_s1_t2\",\"P_s2_t1\",\"P_s2_t2\"))\n",
    "x"
   ]
  },
  {
   "cell_type": "code",
   "execution_count": 77,
   "metadata": {},
   "outputs": [],
   "source": [
    "require(grDevices)"
   ]
  },
  {
   "cell_type": "code",
   "execution_count": 132,
   "metadata": {
    "scrolled": true
   },
   "outputs": [
    {
     "data": {
      "image/png": "[encoded data removed]",
      "text/plain": [
       "plot without title"
      ]
     },
     "metadata": {
      "image/png": {
       "height": 420,
       "width": 420
      },
      "text/plain": {
       "height": 420,
       "width": 420
      }
     },
     "output_type": "display_data"
    }
   ],
   "source": [
    "barplot(Q14, col = rainbow(9), legend.text = TRUE, names.arg=x, space = 1, las=2, args.legend = list(x = \"topright\", bty = \"n\", inset=c(-0.05, 0)), ylab=\"Substrate Proportion\")"
   ]
  },
  {
   "cell_type": "code",
   "execution_count": 141,
   "metadata": {},
   "outputs": [],
   "source": [
    "?plot"
   ]
  },
  {
   "cell_type": "code",
   "execution_count": 142,
   "metadata": {},
   "outputs": [
    {
     "name": "stderr",
     "output_type": "stream",
     "text": [
      "Loading required package: ggplot2\n",
      "\n"
     ]
    }
   ],
   "source": [
    "require(ggplot2)"
   ]
  },
  {
   "cell_type": "code",
   "execution_count": 149,
   "metadata": {
    "scrolled": false
   },
   "outputs": [
    {
     "data": {
      "image/png": "[encoded data removed]",
      "text/plain": [
       "plot without title"
      ]
     },
     "metadata": {
      "image/png": {
       "height": 420,
       "width": 420
      },
      "text/plain": {
       "height": 420,
       "width": 420
      }
     },
     "output_type": "display_data"
    }
   ],
   "source": [
    "Q2 = select(data, Rugosity, Abundance)\n",
    "plot(Q2, ylab= \"Fish Abundance\")\n"
   ]
  },
  {
   "cell_type": "code",
   "execution_count": 152,
   "metadata": {
    "scrolled": true
   },
   "outputs": [
    {
     "data": {
      "image/png": "[encoded data removed]",
      "text/plain": [
       "plot without title"
      ]
     },
     "metadata": {
      "image/png": {
       "height": 420,
       "width": 420
      },
      "text/plain": {
       "height": 420,
       "width": 420
      }
     },
     "output_type": "display_data"
    }
   ],
   "source": [
    "Q3 = select(data, Biomass, Abundance)\n",
    "plot(Q3, ylab= \"Fish Abundance\")"
   ]
  },
  {
   "cell_type": "code",
   "execution_count": 186,
   "metadata": {
    "scrolled": true
   },
   "outputs": [
    {
     "data": {
      "image/png": "[encoded data removed]",
      "text/plain": [
       "plot without title"
      ]
     },
     "metadata": {
      "image/png": {
       "height": 420,
       "width": 420
      },
      "text/plain": {
       "height": 420,
       "width": 420
      }
     },
     "output_type": "display_data"
    }
   ],
   "source": [
    "Q4 = select(data, Biomass, Avg_herbivory, Family_group)\n",
    "Q41 = filter(Q4, Family_group==\"Scaridae\")\n",
    "Q42 = select(Q41, Biomass, Avg_herbivory)\n",
    "plot(Q42, xlab=\"Scaridae Biomass\")"
   ]
  },
  {
   "cell_type": "code",
   "execution_count": null,
   "metadata": {},
   "outputs": [],
   "source": []
  },
  {
   "cell_type": "markdown",
   "metadata": {},
   "source": [
    "A stacked barchart of substrate proportions using barplot()\n",
    "\n",
    "A scatterplot of rugosity vs fish abundance\n",
    "\n",
    "A scatterplot of biomass vs fish abundance\n",
    "\n",
    "A scatterplot of Scaridae biomass vs Avg_herbivory\n"
   ]
  },
  {
   "cell_type": "markdown",
   "metadata": {},
   "source": [
    "--- \n",
    "\n",
    "### Grading - 30 pts total\n",
    "\n",
    "Grades will be given 1 pt for each column that is correctly entered = 22 pts; +1 pt for naming the file correctly.\n",
    "You will also be given 2 pts for each of the plots you have been asked to make = 8 pts\n",
    "\n",
    "**Deductions** of 1 pt will be taken for each spelling mistake, including things like mixed capitals. So if you have `Acanthuridae` and `acanthuridae` in the same column you'll be docked -1 pt. This could easly lead to getting **zero** on the assignment so **BE CAREFUL AND CHECK YOUR WORK**.\n",
    "\n",
    "---"
   ]
  },
  {
   "cell_type": "markdown",
   "metadata": {},
   "source": [
    "Please submit this notebok as `Assignment_1_B00XXXXXX.ipynb` along with your completed flat file as `Hell_B00XXXXXX.csv` by email to [a.macneil@dal.ca and tor.kitching.dal.ca] by **midnight (i.e. 23:59:59) on October 13th, 2019.**"
   ]
  }
 ],
 "metadata": {
  "kernelspec": {
   "display_name": "R",
   "language": "R",
   "name": "ir"
  },
  "language_info": {
   "codemirror_mode": "r",
   "file_extension": ".r",
   "mimetype": "text/x-r-source",
   "name": "R",
   "pygments_lexer": "r",
   "version": "3.4.4"
  }
 },
 "nbformat": 4,
 "nbformat_minor": 2
}
